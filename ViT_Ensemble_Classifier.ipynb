{
 "cells": [
  {
   "cell_type": "markdown",
   "id": "b0c32221-4a31-4657-b1ac-9cb979df5c07",
   "metadata": {},
   "source": [
    "\n",
    "# Imports"
   ]
  },
  {
   "cell_type": "code",
   "execution_count": null,
   "id": "07351efe-0ed5-4f0b-a123-fc15f8d97603",
   "metadata": {
    "execution": {
     "iopub.execute_input": "2025-03-17T11:44:37.652178Z",
     "iopub.status.busy": "2025-03-17T11:44:37.652073Z",
     "iopub.status.idle": "2025-03-17T11:44:42.446174Z",
     "shell.execute_reply": "2025-03-17T11:44:42.445782Z",
     "shell.execute_reply.started": "2025-03-17T11:44:37.652165Z"
    }
   },
   "outputs": [],
   "source": [
    "import os\n",
    "import pandas as pd\n",
    "import numpy as np\n",
    "from sklearn.preprocessing import LabelEncoder\n",
    "from sklearn.model_selection import train_test_split\n",
    "from sklearn.utils import resample\n",
    "from PIL import Image\n",
    "from datasets import load_metric\n",
    "import copy\n",
    "import xgboost as xgb\n",
    "import torch.nn as nn\n",
    "import torch\n",
    "import torchvision.transforms as transforms\n",
    "from torch.utils.data import Dataset, DataLoader\n",
    "from transformers import Trainer, TrainingArguments, AutoModelForImageClassification, AutoImageProcessor, EarlyStoppingCallback\n",
    "import gradio as gr"
   ]
  },
  {
   "cell_type": "markdown",
   "id": "86daffa5-2e62-4dd0-9d72-9f859b48dc52",
   "metadata": {},
   "source": [
    "# Data Preprocessing"
   ]
  },
  {
   "cell_type": "code",
   "execution_count": null,
   "id": "2780f22a-3aef-4f3a-b1d7-c0a896754412",
   "metadata": {
    "execution": {
     "iopub.execute_input": "2025-03-17T11:44:45.861281Z",
     "iopub.status.busy": "2025-03-17T11:44:45.860841Z",
     "iopub.status.idle": "2025-03-17T11:44:45.872245Z",
     "shell.execute_reply": "2025-03-17T11:44:45.871921Z",
     "shell.execute_reply.started": "2025-03-17T11:44:45.861261Z"
    }
   },
   "outputs": [],
   "source": [
    "# Set device (CPU or GPU if available)\n",
    "device = torch.device('cuda' if torch.cuda.is_available() else 'cpu')"
   ]
  },
  {
   "cell_type": "code",
   "execution_count": null,
   "id": "2bdfe529-c8d8-4930-9ede-f0cc06b67c1c",
   "metadata": {
    "execution": {
     "iopub.execute_input": "2025-03-17T11:44:46.099126Z",
     "iopub.status.busy": "2025-03-17T11:44:46.098454Z",
     "iopub.status.idle": "2025-03-17T11:44:46.116167Z",
     "shell.execute_reply": "2025-03-17T11:44:46.115805Z",
     "shell.execute_reply.started": "2025-03-17T11:44:46.099089Z"
    }
   },
   "outputs": [],
   "source": [
    "train_metadata = pd.read_csv('/mnt/SSD/hasan/Agile-Styling-ai/CSV_Clean_Data/Masked_CSV/All_R_C_P_4th_3rd_2nd_1st_Molmo_Train-v1.csv')\n",
    "val_metadata = pd.read_csv('/mnt/SSD/hasan/Agile-Styling-ai/CSV_Clean_Data/Masked_CSV/All_R_C_P_4th_3rd_2nd_1st_Molmo_Val-v1.csv')\n",
    "test_metadata = pd.read_csv('/mnt/SSD/hasan/Agile-Styling-ai/CSV_Clean_Data/Masked_CSV/All_R_C_P_4th_3rd_2nd_1st_Molmo_Test-v1.csv')"
   ]
  },
  {
   "cell_type": "code",
   "execution_count": null,
   "id": "5a7e7ff9-7592-44b4-8dbd-314afc77a927",
   "metadata": {
    "execution": {
     "iopub.execute_input": "2025-03-17T11:44:48.245405Z",
     "iopub.status.busy": "2025-03-17T11:44:48.244584Z",
     "iopub.status.idle": "2025-03-17T11:44:48.249932Z",
     "shell.execute_reply": "2025-03-17T11:44:48.249623Z",
     "shell.execute_reply.started": "2025-03-17T11:44:48.245367Z"
    }
   },
   "outputs": [],
   "source": [
    "class AgileDataset(Dataset):\n",
    "    def __init__(self, metadata, transform=None):\n",
    "        self.metadata = metadata\n",
    "        self.transform = transform\n",
    "\n",
    "    def __len__(self):\n",
    "        return len(self.metadata)\n",
    "\n",
    "    def __getitem__(self, idx):\n",
    "        # Get the full image path from the metadata\n",
    "        img_path = self.metadata.iloc[idx, 0]  # This is the Image Path column\n",
    "        image = Image.open(img_path)\n",
    "        \n",
    "        # Convert the image to RGB if it's in RGBA mode (4 channels)\n",
    "        if image.mode != 'RGB':\n",
    "            image = image.convert('RGB')\n",
    "        \n",
    "        label = self.metadata.iloc[idx, 1]  # Assuming 'Season' is the second column\n",
    "\n",
    "        if self.transform is not None:\n",
    "            image = self.transform(image)\n",
    "\n",
    "        return {\"image\": image, \"label\": label}\n"
   ]
  },
  {
   "cell_type": "code",
   "execution_count": null,
   "id": "1c83b23c-2c5d-4005-8acf-44a4d8d60e94",
   "metadata": {
    "execution": {
     "iopub.execute_input": "2025-03-17T11:44:48.417963Z",
     "iopub.status.busy": "2025-03-17T11:44:48.417576Z",
     "iopub.status.idle": "2025-03-17T11:44:48.420529Z",
     "shell.execute_reply": "2025-03-17T11:44:48.420225Z",
     "shell.execute_reply.started": "2025-03-17T11:44:48.417949Z"
    }
   },
   "outputs": [],
   "source": [
    "# Define augmentation transforms using torchvision.transforms\n",
    "transform = transforms.Compose([\n",
    "    # transforms.RandomResizedCrop(224),\n",
    "    # transforms.RandomHorizontalFlip(),\n",
    "    transforms.RandomVerticalFlip(),\n",
    "    # transforms.RandomRotation(20),\n",
    "    transforms.ColorJitter(brightness=0.2, contrast=0.2, saturation=0.2, hue=0.1),\n",
    "    transforms.Resize((224, 224)),\n",
    "    transforms.ToTensor(),\n",
    "    transforms.Normalize(mean=[0.485, 0.456, 0.406], std=[0.229, 0.224, 0.225]),\n",
    "])"
   ]
  },
  {
   "cell_type": "code",
   "execution_count": null,
   "id": "9122e26b-d5ee-4319-b7ca-46bc309dc236",
   "metadata": {
    "execution": {
     "iopub.execute_input": "2025-03-17T11:44:49.954695Z",
     "iopub.status.busy": "2025-03-17T11:44:49.954476Z",
     "iopub.status.idle": "2025-03-17T11:44:49.957869Z",
     "shell.execute_reply": "2025-03-17T11:44:49.957567Z",
     "shell.execute_reply.started": "2025-03-17T11:44:49.954675Z"
    }
   },
   "outputs": [],
   "source": [
    "# Function to balance the dataset\n",
    "def balance_dataset(df):\n",
    "    class_counts = df['Season'].value_counts()\n",
    "    max_class_count = class_counts.max()\n",
    "    balanced_df = pd.DataFrame(columns=df.columns)\n",
    "    for label, count in class_counts.items():\n",
    "        if count < max_class_count:\n",
    "            samples_to_add = max_class_count - count\n",
    "            class_df = df[df['Season'] == label]\n",
    "            sampled_df = resample(class_df, replace=True, n_samples=samples_to_add, random_state=42)\n",
    "            balanced_df = pd.concat([balanced_df, class_df, sampled_df])\n",
    "        else:\n",
    "            balanced_df = pd.concat([balanced_df, df[df['Season'] == label]])\n",
    "\n",
    "    return balanced_df"
   ]
  },
  {
   "cell_type": "code",
   "execution_count": null,
   "id": "ab909e46-a1c8-4e11-96fd-168ff0ebc3d9",
   "metadata": {
    "execution": {
     "iopub.execute_input": "2025-03-03T07:57:23.112894Z",
     "iopub.status.busy": "2025-03-03T07:57:23.112602Z",
     "iopub.status.idle": "2025-03-03T07:57:23.115898Z",
     "shell.execute_reply": "2025-03-03T07:57:23.115328Z",
     "shell.execute_reply.started": "2025-03-03T07:57:23.112870Z"
    }
   },
   "outputs": [],
   "source": [
    "path_counts = dict()\n",
    "index_to_drop = list()"
   ]
  },
  {
   "cell_type": "code",
   "execution_count": null,
   "id": "2844c0dd-19fd-4bed-99a2-1add34eb8415",
   "metadata": {
    "execution": {
     "iopub.execute_input": "2025-03-03T06:50:03.443970Z",
     "iopub.status.busy": "2025-03-03T06:50:03.443514Z",
     "iopub.status.idle": "2025-03-03T06:50:03.619933Z",
     "shell.execute_reply": "2025-03-03T06:50:03.619364Z",
     "shell.execute_reply.started": "2025-03-03T06:50:03.443948Z"
    }
   },
   "outputs": [],
   "source": [
    "for index, row in train_metadata.iterrows():\n",
    "    path = row['Image Path']\n",
    "    label = row['Season']\n",
    "    dirname = os.path.dirname(path)\n",
    "    if path_counts.get(dirname, 0) >= 2:\n",
    "        index_to_drop.append(index)\n",
    "    else:\n",
    "        path_counts.setdefault(dirname, 0)\n",
    "        path_counts[dirname] += 1"
   ]
  },
  {
   "cell_type": "code",
   "execution_count": null,
   "id": "ed171809-bea5-4148-96d6-63fac6b85b33",
   "metadata": {
    "execution": {
     "iopub.execute_input": "2025-03-03T06:50:03.934651Z",
     "iopub.status.busy": "2025-03-03T06:50:03.934246Z",
     "iopub.status.idle": "2025-03-03T06:50:03.938736Z",
     "shell.execute_reply": "2025-03-03T06:50:03.938346Z",
     "shell.execute_reply.started": "2025-03-03T06:50:03.934634Z"
    }
   },
   "outputs": [],
   "source": [
    "train_metadata = train_metadata[~train_metadata.index.isin(index_to_drop)]"
   ]
  },
  {
   "cell_type": "code",
   "execution_count": null,
   "id": "a4172d8d-7249-4e41-927d-619d8e0fc63b",
   "metadata": {
    "execution": {
     "iopub.execute_input": "2025-03-03T06:50:04.491802Z",
     "iopub.status.busy": "2025-03-03T06:50:04.491153Z",
     "iopub.status.idle": "2025-03-03T06:50:04.501378Z",
     "shell.execute_reply": "2025-03-03T06:50:04.500795Z",
     "shell.execute_reply.started": "2025-03-03T06:50:04.491770Z"
    }
   },
   "outputs": [],
   "source": [
    "(train_metadata['Season'].value_counts() / len(train_metadata) * 6)"
   ]
  },
  {
   "cell_type": "code",
   "execution_count": null,
   "id": "4894f698-478a-4f27-88df-355636bfd6f4",
   "metadata": {
    "execution": {
     "iopub.execute_input": "2025-03-17T11:44:55.093488Z",
     "iopub.status.busy": "2025-03-17T11:44:55.092624Z",
     "iopub.status.idle": "2025-03-17T11:44:55.097837Z",
     "shell.execute_reply": "2025-03-17T11:44:55.097420Z",
     "shell.execute_reply.started": "2025-03-17T11:44:55.093440Z"
    }
   },
   "outputs": [],
   "source": [
    "labels = sorted(train_metadata['Season'].unique())\n",
    "label2id = dict(zip(labels, range(len(labels))))\n",
    "id2label = dict(zip(range(len(labels)), labels))"
   ]
  },
  {
   "cell_type": "code",
   "execution_count": null,
   "id": "d79b6e22-85e4-4376-8858-f839b6e31972",
   "metadata": {
    "execution": {
     "iopub.execute_input": "2025-03-17T11:44:55.282456Z",
     "iopub.status.busy": "2025-03-17T11:44:55.282204Z",
     "iopub.status.idle": "2025-03-17T11:44:55.286171Z",
     "shell.execute_reply": "2025-03-17T11:44:55.285596Z",
     "shell.execute_reply.started": "2025-03-17T11:44:55.282437Z"
    }
   },
   "outputs": [],
   "source": [
    "# Check for unique values in 'Season' column\n",
    "print(train_metadata['Season'].unique())\n"
   ]
  },
  {
   "cell_type": "code",
   "execution_count": null,
   "id": "5ac3671b-088d-4cb8-8884-1c42807dd656",
   "metadata": {
    "execution": {
     "iopub.execute_input": "2025-03-17T10:22:34.451038Z",
     "iopub.status.busy": "2025-03-17T10:22:34.450813Z",
     "iopub.status.idle": "2025-03-17T10:22:34.456456Z",
     "shell.execute_reply": "2025-03-17T10:22:34.456109Z",
     "shell.execute_reply.started": "2025-03-17T10:22:34.451022Z"
    }
   },
   "outputs": [],
   "source": [
    "# Display rows where 'Season' is NaN\n",
    "nan_rows = train_metadata[train_metadata['Season'].isna()]\n",
    "print(\"Rows with NaN values in 'Season' column:\")\n",
    "print(nan_rows)\n",
    "\n",
    "# Display the count of NaN values\n",
    "print(f\"\\nNumber of NaN values in 'Season' column: {nan_rows.shape[0]}\")"
   ]
  },
  {
   "cell_type": "code",
   "execution_count": null,
   "id": "19fa9f91-c840-4efb-8de3-ce4e6ceeaa22",
   "metadata": {
    "execution": {
     "iopub.execute_input": "2025-03-17T11:44:58.389841Z",
     "iopub.status.busy": "2025-03-17T11:44:58.389039Z",
     "iopub.status.idle": "2025-03-17T11:44:58.396414Z",
     "shell.execute_reply": "2025-03-17T11:44:58.395956Z",
     "shell.execute_reply.started": "2025-03-17T11:44:58.389801Z"
    }
   },
   "outputs": [],
   "source": [
    "id2label"
   ]
  },
  {
   "cell_type": "code",
   "execution_count": null,
   "id": "dbc9f19c-375f-4d0e-b29d-364fd940207a",
   "metadata": {
    "execution": {
     "iopub.execute_input": "2025-03-17T11:44:58.546509Z",
     "iopub.status.busy": "2025-03-17T11:44:58.546253Z",
     "iopub.status.idle": "2025-03-17T11:44:58.550548Z",
     "shell.execute_reply": "2025-03-17T11:44:58.549959Z",
     "shell.execute_reply.started": "2025-03-17T11:44:58.546489Z"
    }
   },
   "outputs": [],
   "source": [
    "label2id"
   ]
  },
  {
   "cell_type": "code",
   "execution_count": null,
   "id": "b22d8263-f78a-4a34-a621-e951f30e7544",
   "metadata": {
    "execution": {
     "iopub.execute_input": "2025-03-17T11:44:58.705935Z",
     "iopub.status.busy": "2025-03-17T11:44:58.705668Z",
     "iopub.status.idle": "2025-03-17T11:44:58.710179Z",
     "shell.execute_reply": "2025-03-17T11:44:58.709730Z",
     "shell.execute_reply.started": "2025-03-17T11:44:58.705916Z"
    }
   },
   "outputs": [],
   "source": [
    "train_metadata = train_metadata.sample(frac=1, random_state=42).reset_index(drop=True)  # Shuffle the data"
   ]
  },
  {
   "cell_type": "code",
   "execution_count": null,
   "id": "25cc15a6-c205-496a-8481-86d33e5cb5e9",
   "metadata": {
    "execution": {
     "iopub.execute_input": "2025-03-17T11:44:58.802161Z",
     "iopub.status.busy": "2025-03-17T11:44:58.801822Z",
     "iopub.status.idle": "2025-03-17T11:44:58.805280Z",
     "shell.execute_reply": "2025-03-17T11:44:58.804784Z",
     "shell.execute_reply.started": "2025-03-17T11:44:58.802145Z"
    }
   },
   "outputs": [],
   "source": [
    "val_metadata = val_metadata.sample(frac=1, random_state=42).reset_index(drop=True)  # Shuffle the data"
   ]
  },
  {
   "cell_type": "code",
   "execution_count": null,
   "id": "4af39edf-7fe4-460c-ac59-04745fea70b6",
   "metadata": {
    "execution": {
     "iopub.execute_input": "2025-03-17T11:44:58.945810Z",
     "iopub.status.busy": "2025-03-17T11:44:58.945293Z",
     "iopub.status.idle": "2025-03-17T11:44:58.949200Z",
     "shell.execute_reply": "2025-03-17T11:44:58.948713Z",
     "shell.execute_reply.started": "2025-03-17T11:44:58.945780Z"
    }
   },
   "outputs": [],
   "source": [
    "test_metadata = test_metadata.sample(frac=1, random_state=42).reset_index(drop=True)  # Shuffle the data"
   ]
  },
  {
   "cell_type": "code",
   "execution_count": null,
   "id": "50e02ae8-4c88-4486-8be7-4e29ef57cab4",
   "metadata": {
    "execution": {
     "iopub.execute_input": "2025-03-17T11:44:59.106129Z",
     "iopub.status.busy": "2025-03-17T11:44:59.105816Z",
     "iopub.status.idle": "2025-03-17T11:44:59.110304Z",
     "shell.execute_reply": "2025-03-17T11:44:59.109597Z",
     "shell.execute_reply.started": "2025-03-17T11:44:59.106103Z"
    }
   },
   "outputs": [],
   "source": [
    "# Create DataLoader for the training dataset (with augmentation)\n",
    "# train_df_balanced = balance_dataset(train_metadata)\n",
    "train_dataset = AgileDataset(train_metadata, transform=transform)\n",
    "train_loader = DataLoader(train_dataset, batch_size=16, shuffle=True)"
   ]
  },
  {
   "cell_type": "code",
   "execution_count": null,
   "id": "bb844bc5-ec10-49e5-a827-a081049b108f",
   "metadata": {
    "execution": {
     "iopub.execute_input": "2025-03-17T11:44:59.234479Z",
     "iopub.status.busy": "2025-03-17T11:44:59.234232Z",
     "iopub.status.idle": "2025-03-17T11:44:59.239349Z",
     "shell.execute_reply": "2025-03-17T11:44:59.238878Z",
     "shell.execute_reply.started": "2025-03-17T11:44:59.234459Z"
    }
   },
   "outputs": [],
   "source": [
    "train_metadata['Season'].value_counts()"
   ]
  },
  {
   "cell_type": "code",
   "execution_count": null,
   "id": "ff4491f4-a3f1-46a1-a1da-62b9cd0ec93b",
   "metadata": {
    "execution": {
     "iopub.execute_input": "2025-03-17T11:44:59.410788Z",
     "iopub.status.busy": "2025-03-17T11:44:59.410555Z",
     "iopub.status.idle": "2025-03-17T11:44:59.414252Z",
     "shell.execute_reply": "2025-03-17T11:44:59.413790Z",
     "shell.execute_reply.started": "2025-03-17T11:44:59.410768Z"
    }
   },
   "outputs": [],
   "source": [
    "train_dataset.transform"
   ]
  },
  {
   "cell_type": "code",
   "execution_count": null,
   "id": "1a862103-4a4b-4afe-b31e-abef3b616f61",
   "metadata": {},
   "outputs": [],
   "source": []
  },
  {
   "cell_type": "code",
   "execution_count": null,
   "id": "e941ee49-1645-443d-ae01-be6b508ab898",
   "metadata": {
    "execution": {
     "iopub.execute_input": "2025-03-17T11:44:59.923333Z",
     "iopub.status.busy": "2025-03-17T11:44:59.922773Z",
     "iopub.status.idle": "2025-03-17T11:44:59.926680Z",
     "shell.execute_reply": "2025-03-17T11:44:59.926113Z",
     "shell.execute_reply.started": "2025-03-17T11:44:59.923307Z"
    }
   },
   "outputs": [],
   "source": [
    "# Create DataLoader for the validation dataset (without augmentation)\n",
    "val_dataset = AgileDataset(val_metadata, transform=transform)  # No augmentation for validation\n",
    "val_loader = DataLoader(val_dataset, batch_size=16, shuffle=False)"
   ]
  },
  {
   "cell_type": "code",
   "execution_count": null,
   "id": "eec271d0-f684-4157-91ce-73d110755fcf",
   "metadata": {
    "execution": {
     "iopub.execute_input": "2025-03-17T11:45:00.099052Z",
     "iopub.status.busy": "2025-03-17T11:45:00.098724Z",
     "iopub.status.idle": "2025-03-17T11:45:00.104882Z",
     "shell.execute_reply": "2025-03-17T11:45:00.104504Z",
     "shell.execute_reply.started": "2025-03-17T11:45:00.099026Z"
    }
   },
   "outputs": [],
   "source": [
    "val_metadata['Season'].value_counts()"
   ]
  },
  {
   "cell_type": "code",
   "execution_count": null,
   "id": "35abfbe5-7389-4992-88c1-365fb5d646ca",
   "metadata": {
    "execution": {
     "iopub.execute_input": "2025-03-17T11:45:00.258112Z",
     "iopub.status.busy": "2025-03-17T11:45:00.257850Z",
     "iopub.status.idle": "2025-03-17T11:45:00.261021Z",
     "shell.execute_reply": "2025-03-17T11:45:00.260566Z",
     "shell.execute_reply.started": "2025-03-17T11:45:00.258093Z"
    }
   },
   "outputs": [],
   "source": [
    "# Create DataLoader for the test dataset\n",
    "test_dataset = AgileDataset(test_metadata, transform=transform)  # No augmentation for testing\n",
    "test_loader = DataLoader(test_dataset, batch_size=16, shuffle=False)"
   ]
  },
  {
   "cell_type": "code",
   "execution_count": null,
   "id": "c4fba467-d3f1-4f2e-b34f-6460bcbbd95d",
   "metadata": {
    "execution": {
     "iopub.execute_input": "2025-03-17T11:45:00.723342Z",
     "iopub.status.busy": "2025-03-17T11:45:00.723088Z",
     "iopub.status.idle": "2025-03-17T11:45:00.726794Z",
     "shell.execute_reply": "2025-03-17T11:45:00.726326Z",
     "shell.execute_reply.started": "2025-03-17T11:45:00.723322Z"
    }
   },
   "outputs": [],
   "source": [
    "test_dataset"
   ]
  },
  {
   "cell_type": "code",
   "execution_count": null,
   "id": "8f2caf58-271f-4fa5-a3d8-66a16dad0bfd",
   "metadata": {
    "execution": {
     "iopub.execute_input": "2025-03-17T11:45:00.914994Z",
     "iopub.status.busy": "2025-03-17T11:45:00.914758Z",
     "iopub.status.idle": "2025-03-17T11:45:00.917932Z",
     "shell.execute_reply": "2025-03-17T11:45:00.917609Z",
     "shell.execute_reply.started": "2025-03-17T11:45:00.914977Z"
    }
   },
   "outputs": [],
   "source": [
    "len(test_metadata)"
   ]
  },
  {
   "cell_type": "code",
   "execution_count": null,
   "id": "fa02f4ba-42b6-45f0-9f30-0e1e41c12cd9",
   "metadata": {
    "execution": {
     "iopub.execute_input": "2025-03-17T11:45:01.090569Z",
     "iopub.status.busy": "2025-03-17T11:45:01.090316Z",
     "iopub.status.idle": "2025-03-17T11:45:01.095509Z",
     "shell.execute_reply": "2025-03-17T11:45:01.095069Z",
     "shell.execute_reply.started": "2025-03-17T11:45:01.090549Z"
    }
   },
   "outputs": [],
   "source": [
    "test_metadata['Season'].value_counts()"
   ]
  },
  {
   "cell_type": "code",
   "execution_count": null,
   "id": "9369cd6c-46f1-42da-b99d-1f110315440f",
   "metadata": {
    "execution": {
     "iopub.execute_input": "2025-03-17T11:45:01.298860Z",
     "iopub.status.busy": "2025-03-17T11:45:01.298235Z",
     "iopub.status.idle": "2025-03-17T11:45:01.301989Z",
     "shell.execute_reply": "2025-03-17T11:45:01.301520Z",
     "shell.execute_reply.started": "2025-03-17T11:45:01.298823Z"
    }
   },
   "outputs": [],
   "source": [
    "# Check dataset sizes\n",
    "print(len(train_dataset), len(val_dataset), len(test_dataset))"
   ]
  },
  {
   "cell_type": "code",
   "execution_count": null,
   "id": "3a161bec-e1e7-4ba8-9384-1f25347d660e",
   "metadata": {
    "execution": {
     "iopub.execute_input": "2025-03-17T11:45:01.812053Z",
     "iopub.status.busy": "2025-03-17T11:45:01.811547Z",
     "iopub.status.idle": "2025-03-17T11:45:01.843448Z",
     "shell.execute_reply": "2025-03-17T11:45:01.843049Z",
     "shell.execute_reply.started": "2025-03-17T11:45:01.812032Z"
    }
   },
   "outputs": [],
   "source": [
    "# Get an item from the dataset\n",
    "index = 10  # You can change this to any valid index within your dataset\n",
    "sample = train_dataset[index]\n",
    "\n",
    "# Print the output in the desired format\n",
    "print(\"Output:\")\n",
    "print(sample)  # This will show the image tensor and label directly\n",
    "\n"
   ]
  },
  {
   "cell_type": "markdown",
   "id": "0314d419-ea36-4999-88af-dbad765e6119",
   "metadata": {},
   "source": [
    "# Metrics"
   ]
  },
  {
   "cell_type": "code",
   "execution_count": null,
   "id": "412df660-57c4-4f55-ad40-284791aa90e8",
   "metadata": {
    "execution": {
     "iopub.execute_input": "2025-03-17T11:45:02.546457Z",
     "iopub.status.busy": "2025-03-17T11:45:02.546140Z",
     "iopub.status.idle": "2025-03-17T11:45:02.549314Z",
     "shell.execute_reply": "2025-03-17T11:45:02.548706Z",
     "shell.execute_reply.started": "2025-03-17T11:45:02.546432Z"
    }
   },
   "outputs": [],
   "source": [
    "# eval_pred.predictions"
   ]
  },
  {
   "cell_type": "code",
   "execution_count": null,
   "id": "fb583d8c-30ad-4ad9-a753-fd13b6d7ff48",
   "metadata": {
    "execution": {
     "iopub.execute_input": "2025-03-17T11:45:02.931413Z",
     "iopub.status.busy": "2025-03-17T11:45:02.931192Z",
     "iopub.status.idle": "2025-03-17T11:45:04.242916Z",
     "shell.execute_reply": "2025-03-17T11:45:04.242350Z",
     "shell.execute_reply.started": "2025-03-17T11:45:02.931396Z"
    }
   },
   "outputs": [],
   "source": [
    "metric = load_metric(\"seqeval\")\n",
    "\n",
    "def compute_metrics(eval_pred):\n",
    "\n",
    "    predictions = np.argmax(eval_pred.predictions, axis=1)\n",
    "    labels = eval_pred.label_ids\n",
    "    predictions = [id2label[_] for _ in predictions]\n",
    "    labels = [id2label[_] for _ in labels]\n",
    "    results = metric.compute(predictions=[predictions], references=[labels])\n",
    "\n",
    "    # print(list(results))\n",
    "    # print(results)\n",
    "    # Unpack nested dictionaries\n",
    "    final_results = {}\n",
    "\n",
    "    results_copy = copy.deepcopy(results)\n",
    "    for m in ['overall_precision', 'overall_recall', 'overall_f1', 'overall_accuracy']:\n",
    "        _ = results_copy.pop(m)\n",
    "\n",
    "    overall = dict(zip(['f1', 'precision', 'recall'], [{'nom': 0, 'denom': 0}] * 3))\n",
    "\n",
    "    for l in results_copy:\n",
    "        for m in ['f1', 'precision', 'recall']:\n",
    "            weight = 1\n",
    "            if l in []:\n",
    "                weight = 4\n",
    "            overall[m]['nom'] += results_copy[l]['f1'] * results_copy[l]['number'] * weight\n",
    "            overall[m]['denom'] += results_copy[l]['number'] * weight\n",
    "\n",
    "    for m in ['f1', 'precision', 'recall']:\n",
    "        overall[m] = overall[m]['nom'] / overall[m]['denom']\n",
    "\n",
    "    # for m in ['f1', 'precision', 'recall']:\n",
    "    #   if overall[m]['denom'] != 0:\n",
    "    #       overall[m] = overall[m]['nom'] / overall[m]['denom']\n",
    "    #   else:\n",
    "    #       overall[m] = 0  # Set to a suitable value when denominator is zero\n",
    "\n",
    "\n",
    "    for m in ['f1', 'precision', 'recall']:\n",
    "        results[f'overall_{m}'] = overall[m]\n",
    "    results.pop('overall_accuracy')\n",
    "\n",
    "    for key, value in results.items():\n",
    "        if isinstance(value, dict):\n",
    "            for n, v in value.items():\n",
    "                final_results[f\"{key}_{n}\"] = v\n",
    "        else:\n",
    "            final_results[key] = value\n",
    "    return final_results"
   ]
  },
  {
   "cell_type": "code",
   "execution_count": null,
   "id": "f8d64ce1-17d4-4a3e-8ac2-68cde6fd71e2",
   "metadata": {
    "execution": {
     "iopub.execute_input": "2025-03-17T11:45:04.243977Z",
     "iopub.status.busy": "2025-03-17T11:45:04.243793Z",
     "iopub.status.idle": "2025-03-17T11:45:04.247041Z",
     "shell.execute_reply": "2025-03-17T11:45:04.246363Z",
     "shell.execute_reply.started": "2025-03-17T11:45:04.243959Z"
    }
   },
   "outputs": [],
   "source": [
    "# def get_collate_fn(processor):\n",
    "#   Process = lambda x: processor(x,labelidz return_tensors='pt')['pixel_values']\n",
    "def collate_fn(examples):\n",
    "  pixel_values = torch.stack([example[\"image\"] for example in examples])\n",
    "  labels = torch.tensor([label2id[example[\"label\"]] for example in examples])\n",
    "  return {\"pixel_values\": pixel_values, \"labels\": labels}\n",
    "# return collate_fn"
   ]
  },
  {
   "cell_type": "markdown",
   "id": "e6228e01-28b3-4dec-96be-0e309e6d8b54",
   "metadata": {},
   "source": [
    "# Dinov2-base"
   ]
  },
  {
   "cell_type": "code",
   "execution_count": null,
   "id": "22087109-9ccc-4305-ac5d-ac0344eff3e6",
   "metadata": {
    "execution": {
     "iopub.execute_input": "2025-03-17T07:35:56.890648Z",
     "iopub.status.busy": "2025-03-17T07:35:56.890190Z",
     "iopub.status.idle": "2025-03-17T07:35:57.440639Z",
     "shell.execute_reply": "2025-03-17T07:35:57.440192Z",
     "shell.execute_reply.started": "2025-03-17T07:35:56.890606Z"
    }
   },
   "outputs": [],
   "source": [
    "model_checkpoint = \"facebook/dinov2-base\"\n",
    "# model_checkpoint = \"vit models/convnext_results/train-1/checkpoint-1000\"\n",
    "image_processor = AutoImageProcessor.from_pretrained(model_checkpoint)\n"
   ]
  },
  {
   "cell_type": "code",
   "execution_count": null,
   "id": "0b60f62e-5281-4222-8abd-eb0b1f980714",
   "metadata": {
    "execution": {
     "iopub.execute_input": "2025-03-17T07:36:03.435084Z",
     "iopub.status.busy": "2025-03-17T07:36:03.434412Z",
     "iopub.status.idle": "2025-03-17T07:36:07.118736Z",
     "shell.execute_reply": "2025-03-17T07:36:07.118139Z",
     "shell.execute_reply.started": "2025-03-17T07:36:03.435055Z"
    }
   },
   "outputs": [],
   "source": [
    "# Create the ViT model\n",
    "model = AutoModelForImageClassification.from_pretrained(\n",
    "    model_checkpoint,\n",
    "    label2id = label2id,\n",
    "    id2label = id2label,\n",
    "    ignore_mismatched_sizes=True).to('cuda')"
   ]
  },
  {
   "cell_type": "code",
   "execution_count": null,
   "id": "50ca1682-55c5-4e70-92da-686715661d32",
   "metadata": {
    "execution": {
     "iopub.execute_input": "2025-03-17T07:36:15.034027Z",
     "iopub.status.busy": "2025-03-17T07:36:15.033683Z",
     "iopub.status.idle": "2025-03-17T07:36:15.039906Z",
     "shell.execute_reply": "2025-03-17T07:36:15.039201Z",
     "shell.execute_reply.started": "2025-03-17T07:36:15.033999Z"
    },
    "scrolled": true
   },
   "outputs": [],
   "source": [
    "model"
   ]
  },
  {
   "cell_type": "code",
   "execution_count": null,
   "id": "3f85b3e7-27ed-4ec9-930d-a332a03b593f",
   "metadata": {
    "execution": {
     "iopub.execute_input": "2025-03-17T09:24:02.976542Z",
     "iopub.status.busy": "2025-03-17T09:24:02.976123Z",
     "iopub.status.idle": "2025-03-17T09:24:03.040341Z",
     "shell.execute_reply": "2025-03-17T09:24:03.039881Z",
     "shell.execute_reply.started": "2025-03-17T09:24:02.976525Z"
    }
   },
   "outputs": [],
   "source": [
    "# Training arguments\n",
    "batch_size = 16\n",
    "epochs = 50\n",
    "training_args = TrainingArguments(\n",
    "    # output_dir=\"Vit-project-80-5-15/convnext_model/train-3\",\n",
    "    output_dir=\"/mnt/SSD/hasan/Agile-Styling-ai/Finetuned_Checpoint/Dinov2_Checkpoints/R_C_P_4th_3rd_2nd_1st/Test-1\",\n",
    "    remove_unused_columns=False,\n",
    "    evaluation_strategy=\"steps\",\n",
    "    save_strategy=\"steps\",\n",
    "    eval_steps=5,\n",
    "    save_steps=5,\n",
    "    save_total_limit=5,\n",
    "    logging_steps=5,\n",
    "    learning_rate=0.00001,\n",
    "    per_device_train_batch_size=batch_size,\n",
    "    gradient_accumulation_steps=2,\n",
    "    per_device_eval_batch_size=12,\n",
    "    num_train_epochs=epochs,\n",
    "    max_steps=int(np.ceil(len(train_dataset)/batch_size*epochs)),\n",
    "    load_best_model_at_end=True,\n",
    "    metric_for_best_model=\"eval_overall_f1\",\n",
    "    )"
   ]
  },
  {
   "cell_type": "code",
   "execution_count": null,
   "id": "f3ef4fc4-9430-436d-b40e-dc72383bd6ef",
   "metadata": {
    "execution": {
     "iopub.execute_input": "2024-12-11T12:55:48.668690Z",
     "iopub.status.busy": "2024-12-11T12:55:48.668270Z",
     "iopub.status.idle": "2024-12-11T12:55:48.671099Z",
     "shell.execute_reply": "2024-12-11T12:55:48.670747Z",
     "shell.execute_reply.started": "2024-12-11T12:55:48.668673Z"
    }
   },
   "outputs": [],
   "source": [
    "# callback = EarlyStoppingCallback(early_stopping_patience=5, early_stopping_threshold=0.9)"
   ]
  },
  {
   "cell_type": "code",
   "execution_count": null,
   "id": "0c593a73-2d9f-4215-abd1-8f72cfb9d960",
   "metadata": {
    "execution": {
     "iopub.execute_input": "2025-03-17T09:24:05.009048Z",
     "iopub.status.busy": "2025-03-17T09:24:05.008263Z",
     "iopub.status.idle": "2025-03-17T09:24:05.027947Z",
     "shell.execute_reply": "2025-03-17T09:24:05.027266Z",
     "shell.execute_reply.started": "2025-03-17T09:24:05.008999Z"
    }
   },
   "outputs": [],
   "source": [
    "# Trainer\n",
    "trainer = Trainer(\n",
    "    model=model,\n",
    "    args=training_args,\n",
    "    train_dataset=train_dataset,\n",
    "    eval_dataset=val_dataset,\n",
    "    compute_metrics=compute_metrics,\n",
    "    data_collator=collate_fn,\n",
    "    # callbacks=[callback]\n",
    "    )"
   ]
  },
  {
   "cell_type": "code",
   "execution_count": null,
   "id": "ed85faef-91e0-45ac-b742-c622d112d4ab",
   "metadata": {
    "execution": {
     "iopub.execute_input": "2025-03-17T07:39:01.718875Z",
     "iopub.status.busy": "2025-03-17T07:39:01.718418Z",
     "iopub.status.idle": "2025-03-17T07:39:01.723928Z",
     "shell.execute_reply": "2025-03-17T07:39:01.723572Z",
     "shell.execute_reply.started": "2025-03-17T07:39:01.718834Z"
    }
   },
   "outputs": [],
   "source": [
    "len(train_dataset)"
   ]
  },
  {
   "cell_type": "code",
   "execution_count": null,
   "id": "0eb2d132-6da1-48c1-aa07-65c3e7238ca3",
   "metadata": {
    "execution": {
     "iopub.execute_input": "2025-03-17T07:39:05.081025Z",
     "iopub.status.busy": "2025-03-17T07:39:05.080568Z",
     "iopub.status.idle": "2025-03-17T08:24:47.147773Z",
     "shell.execute_reply": "2025-03-17T08:24:47.143904Z",
     "shell.execute_reply.started": "2025-03-17T07:39:05.081006Z"
    },
    "scrolled": true
   },
   "outputs": [],
   "source": [
    "# Training\n",
    "train_results = trainer.train()"
   ]
  },
  {
   "cell_type": "code",
   "execution_count": null,
   "id": "2f0ad75d-755f-4b34-847b-e662e792dde8",
   "metadata": {},
   "outputs": [],
   "source": []
  },
  {
   "cell_type": "code",
   "execution_count": null,
   "id": "49f866fc-92fc-499f-bc06-43332d3d8eec",
   "metadata": {
    "execution": {
     "iopub.execute_input": "2025-03-17T08:24:51.001172Z",
     "iopub.status.busy": "2025-03-17T08:24:51.000754Z",
     "iopub.status.idle": "2025-03-17T08:25:14.703013Z",
     "shell.execute_reply": "2025-03-17T08:25:14.702652Z",
     "shell.execute_reply.started": "2025-03-17T08:24:51.001154Z"
    }
   },
   "outputs": [],
   "source": [
    "test_pred = trainer.predict(test_dataset)"
   ]
  },
  {
   "cell_type": "code",
   "execution_count": null,
   "id": "7e7dac29-e16f-4a0b-a995-26b03aae3746",
   "metadata": {
    "execution": {
     "iopub.execute_input": "2025-03-17T08:25:14.704396Z",
     "iopub.status.busy": "2025-03-17T08:25:14.704274Z",
     "iopub.status.idle": "2025-03-17T08:25:14.707700Z",
     "shell.execute_reply": "2025-03-17T08:25:14.707410Z",
     "shell.execute_reply.started": "2025-03-17T08:25:14.704384Z"
    }
   },
   "outputs": [],
   "source": [
    "test_pred.metrics"
   ]
  },
  {
   "cell_type": "code",
   "execution_count": null,
   "id": "ba0602cd-2754-4795-8c79-592b8a6e57cb",
   "metadata": {
    "execution": {
     "iopub.execute_input": "2025-03-17T08:25:14.708246Z",
     "iopub.status.busy": "2025-03-17T08:25:14.708134Z",
     "iopub.status.idle": "2025-03-17T08:25:22.376946Z",
     "shell.execute_reply": "2025-03-17T08:25:22.376583Z",
     "shell.execute_reply.started": "2025-03-17T08:25:14.708235Z"
    }
   },
   "outputs": [],
   "source": [
    "y_test = torch.tensor([label2id[test_dataset[i]['label']] for i in range(len(test_dataset))])\n",
    "y_test.shape"
   ]
  },
  {
   "cell_type": "code",
   "execution_count": null,
   "id": "17a1796e-7de9-441c-8533-38332e379edf",
   "metadata": {
    "execution": {
     "iopub.execute_input": "2025-03-17T08:25:22.378159Z",
     "iopub.status.busy": "2025-03-17T08:25:22.377907Z",
     "iopub.status.idle": "2025-03-17T08:25:22.380974Z",
     "shell.execute_reply": "2025-03-17T08:25:22.380597Z",
     "shell.execute_reply.started": "2025-03-17T08:25:22.378143Z"
    }
   },
   "outputs": [],
   "source": [
    "print(len(y_test))  # true labels you have\n",
    "print(len(test_pred))  # Predictions made"
   ]
  },
  {
   "cell_type": "code",
   "execution_count": null,
   "id": "4a300aff-f631-46c4-a49c-4f961c5020cf",
   "metadata": {
    "execution": {
     "iopub.execute_input": "2025-03-17T08:25:22.381553Z",
     "iopub.status.busy": "2025-03-17T08:25:22.381418Z",
     "iopub.status.idle": "2025-03-17T08:25:22.389260Z",
     "shell.execute_reply": "2025-03-17T08:25:22.388940Z",
     "shell.execute_reply.started": "2025-03-17T08:25:22.381538Z"
    },
    "scrolled": true
   },
   "outputs": [],
   "source": [
    "(test_pred)"
   ]
  },
  {
   "cell_type": "code",
   "execution_count": null,
   "id": "3d1f8f18-9a32-4757-9f47-b75ab28ba235",
   "metadata": {
    "execution": {
     "iopub.execute_input": "2025-03-17T08:25:22.389852Z",
     "iopub.status.busy": "2025-03-17T08:25:22.389742Z",
     "iopub.status.idle": "2025-03-17T08:25:22.395725Z",
     "shell.execute_reply": "2025-03-17T08:25:22.395362Z",
     "shell.execute_reply.started": "2025-03-17T08:25:22.389841Z"
    },
    "scrolled": true
   },
   "outputs": [],
   "source": [
    "# Check the length of both\n",
    "print(f\"Length of y_test: {len(y_test)}\")\n",
    "print(f\"Length of test_pred: {len(test_pred.predictions)}\")\n",
    "\n",
    "# Optionally, check the first few values to make sure they look correct\n",
    "print(f\"First 5 true labels: {y_test[:5]}\")\n",
    "print(f\"First 5 predictions: {test_pred[:5]}\")"
   ]
  },
  {
   "cell_type": "code",
   "execution_count": null,
   "id": "afddeab3-1cd6-4bec-81ee-0e886d50cf98",
   "metadata": {
    "execution": {
     "iopub.execute_input": "2025-03-17T08:25:22.396147Z",
     "iopub.status.busy": "2025-03-17T08:25:22.396040Z",
     "iopub.status.idle": "2025-03-17T08:25:22.399353Z",
     "shell.execute_reply": "2025-03-17T08:25:22.399069Z",
     "shell.execute_reply.started": "2025-03-17T08:25:22.396135Z"
    },
    "scrolled": true
   },
   "outputs": [],
   "source": [
    "test_pred"
   ]
  },
  {
   "cell_type": "code",
   "execution_count": null,
   "id": "b095dae4-be01-42d5-bd1e-48f76f900667",
   "metadata": {
    "execution": {
     "iopub.execute_input": "2025-03-17T08:25:22.399805Z",
     "iopub.status.busy": "2025-03-17T08:25:22.399700Z",
     "iopub.status.idle": "2025-03-17T08:25:22.403380Z",
     "shell.execute_reply": "2025-03-17T08:25:22.403054Z",
     "shell.execute_reply.started": "2025-03-17T08:25:22.399794Z"
    },
    "scrolled": true
   },
   "outputs": [],
   "source": [
    "y_test"
   ]
  },
  {
   "cell_type": "code",
   "execution_count": null,
   "id": "719b74c5-be9f-473a-8634-1fc175700adb",
   "metadata": {
    "execution": {
     "iopub.execute_input": "2025-03-17T08:25:22.403959Z",
     "iopub.status.busy": "2025-03-17T08:25:22.403847Z",
     "iopub.status.idle": "2025-03-17T08:25:22.406663Z",
     "shell.execute_reply": "2025-03-17T08:25:22.406342Z",
     "shell.execute_reply.started": "2025-03-17T08:25:22.403946Z"
    },
    "scrolled": true
   },
   "outputs": [],
   "source": [
    "test_pred.predictions"
   ]
  },
  {
   "cell_type": "code",
   "execution_count": null,
   "id": "e6345627-48bc-48c9-af7f-be50adb47f74",
   "metadata": {
    "execution": {
     "iopub.execute_input": "2025-03-17T08:25:31.926011Z",
     "iopub.status.busy": "2025-03-17T08:25:31.925535Z",
     "iopub.status.idle": "2025-03-17T08:25:31.928982Z",
     "shell.execute_reply": "2025-03-17T08:25:31.928697Z",
     "shell.execute_reply.started": "2025-03-17T08:25:31.925982Z"
    }
   },
   "outputs": [],
   "source": [
    "labelids = [np.argmax(a) for a in test_pred.predictions]"
   ]
  },
  {
   "cell_type": "code",
   "execution_count": null,
   "id": "01955825-fce8-4083-b337-2d083e1fdee8",
   "metadata": {
    "execution": {
     "iopub.execute_input": "2025-03-17T08:25:34.421269Z",
     "iopub.status.busy": "2025-03-17T08:25:34.420484Z",
     "iopub.status.idle": "2025-03-17T08:25:34.425391Z",
     "shell.execute_reply": "2025-03-17T08:25:34.425064Z",
     "shell.execute_reply.started": "2025-03-17T08:25:34.421239Z"
    },
    "scrolled": true
   },
   "outputs": [],
   "source": [
    "test_pred.label_ids"
   ]
  },
  {
   "cell_type": "code",
   "execution_count": null,
   "id": "c0ba4c17-c012-4b73-845b-a1b433667d04",
   "metadata": {
    "execution": {
     "iopub.execute_input": "2025-03-17T08:25:39.013114Z",
     "iopub.status.busy": "2025-03-17T08:25:39.012795Z",
     "iopub.status.idle": "2025-03-17T08:25:39.034205Z",
     "shell.execute_reply": "2025-03-17T08:25:39.033879Z",
     "shell.execute_reply.started": "2025-03-17T08:25:39.013086Z"
    }
   },
   "outputs": [],
   "source": [
    "target = list(id2label.keys())  \n",
    "target_names = list(id2label.values())\n",
    "from sklearn import metrics\n",
    "test_predictions = test_pred.predictions\n",
    "# test_predictions = test_pred.label_ids\n",
    "test_predictions = labelids\n",
    "# threshold = np.round(metrics.roc_auc_score(y_test6, y_pred6,multi_class='ovo', average='weighted'),4)\n",
    "# print('ROC AUC Score is :', threshold)\n",
    "print('Accuracy score is :', np.round(metrics.accuracy_score(y_test,  test_predictions),4))\n",
    "print('Precision score is :', np.round(metrics.precision_score(y_test, test_predictions, average='weighted'),4))\n",
    "print('Recall score is :', np.round(metrics.recall_score(y_test,  test_predictions, average='weighted'),4))\n",
    "print('F1 Score is :', np.round(metrics.f1_score(y_test,  test_predictions, average='weighted'),4))\n",
    "print('Cohen Kappa Score:', np.round(metrics.cohen_kappa_score(y_test,  test_predictions),4))\n",
    "print('\\t\\tClassification Report:\\n', metrics.classification_report(y_test,  test_predictions, labels=target, target_names=target_names))"
   ]
  },
  {
   "cell_type": "markdown",
   "id": "e6438c00-795d-4a7f-b79d-d8be885146bd",
   "metadata": {},
   "source": [
    "# Inference From Finetned Checkpoints"
   ]
  },
  {
   "cell_type": "code",
   "execution_count": null,
   "id": "69b8dba4-e6e4-4ebe-bac1-b2c0c6fc54d1",
   "metadata": {
    "execution": {
     "iopub.execute_input": "2025-03-17T09:24:10.752205Z",
     "iopub.status.busy": "2025-03-17T09:24:10.751531Z",
     "iopub.status.idle": "2025-03-17T09:24:11.374112Z",
     "shell.execute_reply": "2025-03-17T09:24:11.373766Z",
     "shell.execute_reply.started": "2025-03-17T09:24:10.752179Z"
    }
   },
   "outputs": [],
   "source": [
    "# Replace this path with the correct path to your fine-tuned model\n",
    "checkpoint_path = \"/mnt/SSD/hasan/Agile-Styling-ai/Finetuned_Checpoint/Dinov2_Checkpoints/R_C_P_4th_3rd_2nd_1st/Test-1/checkpoint-255\"\n",
    "\n",
    "# Load the model and the processor (image processor)\n",
    "model = AutoModelForImageClassification.from_pretrained(\n",
    "    checkpoint_path,\n",
    "    label2id=label2id,\n",
    "    id2label=id2label,\n",
    "    ignore_mismatched_sizes=True\n",
    ").to(device)\n",
    "\n",
    "image_processor = AutoImageProcessor.from_pretrained(checkpoint_path)"
   ]
  },
  {
   "cell_type": "code",
   "execution_count": null,
   "id": "8bd19c46-cb5d-4825-9878-59086a4bc6f1",
   "metadata": {
    "execution": {
     "iopub.execute_input": "2025-03-17T09:24:12.991700Z",
     "iopub.status.busy": "2025-03-17T09:24:12.990855Z",
     "iopub.status.idle": "2025-03-17T09:24:12.994740Z",
     "shell.execute_reply": "2025-03-17T09:24:12.994389Z",
     "shell.execute_reply.started": "2025-03-17T09:24:12.991659Z"
    }
   },
   "outputs": [],
   "source": [
    "# Define the test dataset transforms (only resizing and normalization)\n",
    "test_transform = transforms.Compose([\n",
    "    transforms.Resize((224, 224)),\n",
    "    transforms.ToTensor(),\n",
    "    transforms.Normalize(mean=[0.485, 0.456, 0.406], std=[0.229, 0.224, 0.225]),\n",
    "])\n",
    "\n",
    "# Create DataLoader for the test dataset (without augmentation)\n",
    "test_dataset = AgileDataset(test_metadata, transform=test_transform)\n",
    "test_loader = DataLoader(test_dataset, batch_size=16, shuffle=False)\n"
   ]
  },
  {
   "cell_type": "code",
   "execution_count": null,
   "id": "637a7c3c-8bd9-4236-94e9-61cd5acd52eb",
   "metadata": {
    "execution": {
     "iopub.execute_input": "2025-03-03T06:33:48.315367Z",
     "iopub.status.busy": "2025-03-03T06:33:48.315052Z",
     "iopub.status.idle": "2025-03-03T06:33:48.321933Z",
     "shell.execute_reply": "2025-03-03T06:33:48.321446Z",
     "shell.execute_reply.started": "2025-03-03T06:33:48.315351Z"
    }
   },
   "outputs": [],
   "source": [
    "from sklearn import metrics"
   ]
  },
  {
   "cell_type": "code",
   "execution_count": null,
   "id": "6b82ad0c-82ce-486b-973b-4b7e5f23cf12",
   "metadata": {
    "execution": {
     "iopub.execute_input": "2025-03-17T09:24:15.760922Z",
     "iopub.status.busy": "2025-03-17T09:24:15.760541Z",
     "iopub.status.idle": "2025-03-17T09:24:20.139065Z",
     "shell.execute_reply": "2025-03-17T09:24:20.138673Z",
     "shell.execute_reply.started": "2025-03-17T09:24:15.760892Z"
    }
   },
   "outputs": [],
   "source": [
    "# Use the trained model to predict on the test dataset\n",
    "test_pred = trainer.predict(test_dataset)"
   ]
  },
  {
   "cell_type": "code",
   "execution_count": null,
   "id": "01f31fc7-319a-48f6-84cd-c562a0bb4bbc",
   "metadata": {
    "execution": {
     "iopub.execute_input": "2025-03-17T09:24:22.192703Z",
     "iopub.status.busy": "2025-03-17T09:24:22.192060Z",
     "iopub.status.idle": "2025-03-17T09:24:22.196497Z",
     "shell.execute_reply": "2025-03-17T09:24:22.195932Z",
     "shell.execute_reply.started": "2025-03-17T09:24:22.192674Z"
    }
   },
   "outputs": [],
   "source": [
    "labelids = [np.argmax(a) for a in test_pred.predictions]"
   ]
  },
  {
   "cell_type": "code",
   "execution_count": null,
   "id": "535b7c55-a2ab-4cb5-843b-1b4aa5a03dc6",
   "metadata": {
    "execution": {
     "iopub.execute_input": "2025-03-17T09:24:24.145181Z",
     "iopub.status.busy": "2025-03-17T09:24:24.144632Z",
     "iopub.status.idle": "2025-03-17T09:24:26.608065Z",
     "shell.execute_reply": "2025-03-17T09:24:26.607708Z",
     "shell.execute_reply.started": "2025-03-17T09:24:24.145152Z"
    }
   },
   "outputs": [],
   "source": [
    "y_test = torch.tensor([label2id[test_dataset[i]['label']] for i in range(len(test_dataset))])\n",
    "y_test.shape"
   ]
  },
  {
   "cell_type": "code",
   "execution_count": null,
   "id": "f944f5c3-f8e4-4c7b-a78b-b843dd34537a",
   "metadata": {
    "execution": {
     "iopub.execute_input": "2025-03-17T09:17:24.183911Z",
     "iopub.status.busy": "2025-03-17T09:17:24.183417Z",
     "iopub.status.idle": "2025-03-17T09:17:24.195729Z",
     "shell.execute_reply": "2025-03-17T09:17:24.195388Z",
     "shell.execute_reply.started": "2025-03-17T09:17:24.183889Z"
    }
   },
   "outputs": [],
   "source": [
    "# 255\n",
    "target = list(id2label.keys())  \n",
    "target_names = list(id2label.values())\n",
    "from sklearn import metrics\n",
    "test_predictions = test_pred.predictions\n",
    "# test_predictions = test_pred.label_ids\n",
    "test_predictions = labelids\n",
    "# threshold = np.round(metrics.roc_auc_score(y_test6, y_pred6,multi_class='ovo', average='weighted'),4)\n",
    "# print('ROC AUC Score is :', threshold)\n",
    "print('Accuracy score is :', np.round(metrics.accuracy_score(y_test,  test_predictions),4))\n",
    "print('Precision score is :', np.round(metrics.precision_score(y_test, test_predictions, average='weighted'),4))\n",
    "print('Recall score is :', np.round(metrics.recall_score(y_test,  test_predictions, average='weighted'),4))\n",
    "print('F1 Score is :', np.round(metrics.f1_score(y_test,  test_predictions, average='weighted'),4))\n",
    "print('Cohen Kappa Score:', np.round(metrics.cohen_kappa_score(y_test,  test_predictions),4))\n",
    "print('\\t\\tClassification Report:\\n', metrics.classification_report(y_test,  test_predictions, labels=target, target_names=target_names))"
   ]
  },
  {
   "cell_type": "markdown",
   "id": "5f04388d-2566-44d3-b008-a8577f00c7d1",
   "metadata": {},
   "source": [
    "# Swinv2"
   ]
  },
  {
   "cell_type": "code",
   "execution_count": null,
   "id": "4cbcd02a-0f64-4fbb-acd1-690d38c8007f",
   "metadata": {
    "execution": {
     "iopub.execute_input": "2025-03-17T09:26:07.585658Z",
     "iopub.status.busy": "2025-03-17T09:26:07.585146Z",
     "iopub.status.idle": "2025-03-17T09:26:08.278486Z",
     "shell.execute_reply": "2025-03-17T09:26:08.278037Z",
     "shell.execute_reply.started": "2025-03-17T09:26:07.585632Z"
    }
   },
   "outputs": [],
   "source": [
    "# Load the image processor for the specified model checkpoint\n",
    "model_checkpoint = \"microsoft/swinv2-base-patch4-window12-192-22k\"\n",
    "# model_checkpoint = \"microsoft/swinv2-base-patch4-window12-192-22k\"\n",
    "image_processor = AutoImageProcessor.from_pretrained(\"microsoft/swinv2-base-patch4-window12-192-22k\")"
   ]
  },
  {
   "cell_type": "code",
   "execution_count": null,
   "id": "d0203bcd-2bc4-4eac-b0c1-4dbe9a03525f",
   "metadata": {
    "execution": {
     "iopub.execute_input": "2025-03-17T09:26:10.255140Z",
     "iopub.status.busy": "2025-03-17T09:26:10.254706Z",
     "iopub.status.idle": "2025-03-17T09:26:12.049581Z",
     "shell.execute_reply": "2025-03-17T09:26:12.049134Z",
     "shell.execute_reply.started": "2025-03-17T09:26:10.255118Z"
    }
   },
   "outputs": [],
   "source": [
    "# Create the ViT model\n",
    "model = AutoModelForImageClassification.from_pretrained(\n",
    "    model_checkpoint,\n",
    "    label2id = label2id,\n",
    "    id2label = id2label,\n",
    "    ignore_mismatched_sizes=True).to('cuda')"
   ]
  },
  {
   "cell_type": "code",
   "execution_count": null,
   "id": "99fd338f-5288-4f2b-97ad-b2ad688d94b6",
   "metadata": {
    "execution": {
     "iopub.execute_input": "2024-11-11T07:45:23.979012Z",
     "iopub.status.busy": "2024-11-11T07:45:23.978796Z",
     "iopub.status.idle": "2024-11-11T07:45:23.981290Z",
     "shell.execute_reply": "2024-11-11T07:45:23.980954Z",
     "shell.execute_reply.started": "2024-11-11T07:45:23.978997Z"
    }
   },
   "outputs": [],
   "source": [
    "# callback = EarlyStoppingCallback(early_stopping_patience=8)"
   ]
  },
  {
   "cell_type": "code",
   "execution_count": null,
   "id": "bb56ac74-d478-44b8-928a-feb8bd74ebe2",
   "metadata": {
    "execution": {
     "iopub.execute_input": "2025-03-17T10:19:57.049794Z",
     "iopub.status.busy": "2025-03-17T10:19:57.049160Z",
     "iopub.status.idle": "2025-03-17T10:19:57.143312Z",
     "shell.execute_reply": "2025-03-17T10:19:57.142723Z",
     "shell.execute_reply.started": "2025-03-17T10:19:57.049753Z"
    }
   },
   "outputs": [],
   "source": [
    "# Training arguments\n",
    "batch_size = 4\n",
    "epochs = 50\n",
    "training_args = TrainingArguments(\n",
    "    output_dir=\"/mnt/SSD/hasan/Agile-Styling-ai/Finetuned_Checpoint/Swin_v2_Checkpoints/R_C_P_4th_3rd_2nd_1st/Test-1\",\n",
    "    remove_unused_columns=False,\n",
    "    evaluation_strategy=\"steps\",\n",
    "    save_strategy=\"steps\",\n",
    "    eval_steps=5,\n",
    "    save_steps=5,\n",
    "    save_total_limit=1,\n",
    "    logging_steps=100,\n",
    "    learning_rate=0.00001,\n",
    "    per_device_train_batch_size=batch_size,\n",
    "    gradient_accumulation_steps=1,\n",
    "    per_device_eval_batch_size=12,\n",
    "    num_train_epochs=epochs,\n",
    "    max_steps=int(np.ceil(len(train_dataset)/batch_size*epochs)),\n",
    "    load_best_model_at_end=True,\n",
    "    metric_for_best_model=\"eval_overall_f1\",\n",
    "    )"
   ]
  },
  {
   "cell_type": "code",
   "execution_count": null,
   "id": "eb10249a-3c91-482e-8dd6-4135c2b569da",
   "metadata": {
    "execution": {
     "iopub.execute_input": "2025-03-17T10:19:58.696486Z",
     "iopub.status.busy": "2025-03-17T10:19:58.696020Z",
     "iopub.status.idle": "2025-03-17T10:19:58.715983Z",
     "shell.execute_reply": "2025-03-17T10:19:58.715526Z",
     "shell.execute_reply.started": "2025-03-17T10:19:58.696441Z"
    }
   },
   "outputs": [],
   "source": [
    "# Trainer\n",
    "trainer = Trainer(\n",
    "    model=model,\n",
    "    args=training_args,\n",
    "    train_dataset=train_dataset,\n",
    "    eval_dataset=val_dataset,\n",
    "    # tokenizer=image_processor,\n",
    "    compute_metrics=compute_metrics,\n",
    "    data_collator=collate_fn,\n",
    "    # callbacks=[callback]\n",
    "    )"
   ]
  },
  {
   "cell_type": "code",
   "execution_count": null,
   "id": "1c5925f5-0dd7-44c0-ba1c-b3cddc405072",
   "metadata": {
    "execution": {
     "iopub.execute_input": "2025-03-17T09:27:51.653592Z",
     "iopub.status.busy": "2025-03-17T09:27:51.653324Z",
     "iopub.status.idle": "2025-03-17T10:15:38.258155Z",
     "shell.execute_reply": "2025-03-17T10:15:38.256191Z",
     "shell.execute_reply.started": "2025-03-17T09:27:51.653571Z"
    },
    "scrolled": true
   },
   "outputs": [],
   "source": [
    "# Training\n",
    "train_results = trainer.train()"
   ]
  },
  {
   "cell_type": "code",
   "execution_count": null,
   "id": "ee4041f8-c885-40c7-abf8-a911e4689a70",
   "metadata": {
    "execution": {
     "iopub.execute_input": "2025-03-17T10:15:41.886684Z",
     "iopub.status.busy": "2025-03-17T10:15:41.886432Z",
     "iopub.status.idle": "2025-03-17T10:16:00.677890Z",
     "shell.execute_reply": "2025-03-17T10:16:00.677460Z",
     "shell.execute_reply.started": "2025-03-17T10:15:41.886669Z"
    }
   },
   "outputs": [],
   "source": [
    "test_pred = trainer.predict(test_dataset)"
   ]
  },
  {
   "cell_type": "code",
   "execution_count": null,
   "id": "ac8acc1d-e4af-46f7-9e9e-b5afbe36fc62",
   "metadata": {
    "execution": {
     "iopub.execute_input": "2025-03-17T10:16:05.035514Z",
     "iopub.status.busy": "2025-03-17T10:16:05.035172Z",
     "iopub.status.idle": "2025-03-17T10:16:05.039173Z",
     "shell.execute_reply": "2025-03-17T10:16:05.038565Z",
     "shell.execute_reply.started": "2025-03-17T10:16:05.035499Z"
    }
   },
   "outputs": [],
   "source": [
    "test_pred.metrics"
   ]
  },
  {
   "cell_type": "code",
   "execution_count": null,
   "id": "c07db17e-7170-4e89-851e-39df79799bbb",
   "metadata": {
    "execution": {
     "iopub.execute_input": "2025-03-17T10:16:08.748328Z",
     "iopub.status.busy": "2025-03-17T10:16:08.747790Z",
     "iopub.status.idle": "2025-03-17T10:16:16.353776Z",
     "shell.execute_reply": "2025-03-17T10:16:16.353410Z",
     "shell.execute_reply.started": "2025-03-17T10:16:08.748303Z"
    }
   },
   "outputs": [],
   "source": [
    "y_test = torch.tensor([label2id[test_dataset[i]['label']] for i in range(len(test_dataset))])\n",
    "y_test.shape"
   ]
  },
  {
   "cell_type": "code",
   "execution_count": null,
   "id": "4bd4c99c-ff1d-4ac5-a9e9-311bbd7b6ca8",
   "metadata": {
    "execution": {
     "iopub.execute_input": "2025-03-17T10:16:16.354844Z",
     "iopub.status.busy": "2025-03-17T10:16:16.354559Z",
     "iopub.status.idle": "2025-03-17T10:16:16.356929Z",
     "shell.execute_reply": "2025-03-17T10:16:16.356636Z",
     "shell.execute_reply.started": "2025-03-17T10:16:16.354828Z"
    }
   },
   "outputs": [],
   "source": [
    "print(len(y_test))  # true labels you have\n",
    "print(len(test_pred))  # Predictions made"
   ]
  },
  {
   "cell_type": "code",
   "execution_count": null,
   "id": "fbf79bd1-c72c-4252-93e1-704340aad750",
   "metadata": {
    "execution": {
     "iopub.execute_input": "2025-03-17T10:16:18.380507Z",
     "iopub.status.busy": "2025-03-17T10:16:18.380115Z",
     "iopub.status.idle": "2025-03-17T10:16:18.388931Z",
     "shell.execute_reply": "2025-03-17T10:16:18.388554Z",
     "shell.execute_reply.started": "2025-03-17T10:16:18.380485Z"
    },
    "scrolled": true
   },
   "outputs": [],
   "source": [
    "(test_pred)"
   ]
  },
  {
   "cell_type": "code",
   "execution_count": null,
   "id": "d69a425a-18ea-4afe-97aa-b7541f434b3a",
   "metadata": {
    "execution": {
     "iopub.execute_input": "2025-03-17T10:16:23.403710Z",
     "iopub.status.busy": "2025-03-17T10:16:23.402894Z",
     "iopub.status.idle": "2025-03-17T10:16:23.412963Z",
     "shell.execute_reply": "2025-03-17T10:16:23.412516Z",
     "shell.execute_reply.started": "2025-03-17T10:16:23.403658Z"
    },
    "scrolled": true
   },
   "outputs": [],
   "source": [
    "# Check the length of both\n",
    "print(f\"Length of y_test: {len(y_test)}\")\n",
    "print(f\"Length of test_pred: {len(test_pred.predictions)}\")\n",
    "\n",
    "# Optionally, check the first few values to make sure they look correct\n",
    "print(f\"First 5 true labels: {y_test[:5]}\")\n",
    "print(f\"First 5 predictions: {test_pred[:5]}\")\n"
   ]
  },
  {
   "cell_type": "code",
   "execution_count": null,
   "id": "84f82b04-98ce-46a5-b6b8-bea33f8eb096",
   "metadata": {
    "execution": {
     "iopub.execute_input": "2025-03-17T10:16:26.844324Z",
     "iopub.status.busy": "2025-03-17T10:16:26.843454Z",
     "iopub.status.idle": "2025-03-17T10:16:26.852197Z",
     "shell.execute_reply": "2025-03-17T10:16:26.851321Z",
     "shell.execute_reply.started": "2025-03-17T10:16:26.844280Z"
    },
    "scrolled": true
   },
   "outputs": [],
   "source": [
    "test_pred"
   ]
  },
  {
   "cell_type": "code",
   "execution_count": null,
   "id": "8cc7b640-c3a2-4b27-8df4-c1fff2fd6c4b",
   "metadata": {
    "execution": {
     "iopub.execute_input": "2025-03-17T10:16:29.852456Z",
     "iopub.status.busy": "2025-03-17T10:16:29.851842Z",
     "iopub.status.idle": "2025-03-17T10:16:29.858373Z",
     "shell.execute_reply": "2025-03-17T10:16:29.857978Z",
     "shell.execute_reply.started": "2025-03-17T10:16:29.852418Z"
    },
    "scrolled": true
   },
   "outputs": [],
   "source": [
    "y_test"
   ]
  },
  {
   "cell_type": "code",
   "execution_count": null,
   "id": "62458d7a-85c3-4492-8aa0-3b6ca50e60fe",
   "metadata": {
    "execution": {
     "iopub.execute_input": "2025-03-17T10:16:39.260219Z",
     "iopub.status.busy": "2025-03-17T10:16:39.259793Z",
     "iopub.status.idle": "2025-03-17T10:16:39.264551Z",
     "shell.execute_reply": "2025-03-17T10:16:39.263975Z",
     "shell.execute_reply.started": "2025-03-17T10:16:39.260197Z"
    },
    "scrolled": true
   },
   "outputs": [],
   "source": [
    "test_pred.predictions"
   ]
  },
  {
   "cell_type": "code",
   "execution_count": null,
   "id": "84efada0-a602-4b6e-855f-65f4a9bb5726",
   "metadata": {
    "execution": {
     "iopub.execute_input": "2025-03-17T10:16:42.379870Z",
     "iopub.status.busy": "2025-03-17T10:16:42.379344Z",
     "iopub.status.idle": "2025-03-17T10:16:42.384476Z",
     "shell.execute_reply": "2025-03-17T10:16:42.384095Z",
     "shell.execute_reply.started": "2025-03-17T10:16:42.379843Z"
    }
   },
   "outputs": [],
   "source": [
    "labelids = [np.argmax(a) for a in test_pred.predictions]"
   ]
  },
  {
   "cell_type": "code",
   "execution_count": null,
   "id": "fe270930-9ae5-4eac-863f-0efb52939753",
   "metadata": {
    "execution": {
     "iopub.execute_input": "2025-03-17T10:16:45.053301Z",
     "iopub.status.busy": "2025-03-17T10:16:45.052983Z",
     "iopub.status.idle": "2025-03-17T10:16:45.058505Z",
     "shell.execute_reply": "2025-03-17T10:16:45.057721Z",
     "shell.execute_reply.started": "2025-03-17T10:16:45.053274Z"
    }
   },
   "outputs": [],
   "source": [
    "test_pred.label_ids"
   ]
  },
  {
   "cell_type": "code",
   "execution_count": null,
   "id": "c122ab8e-0c02-4b07-8b4b-510368a2f0f5",
   "metadata": {
    "execution": {
     "iopub.execute_input": "2025-03-17T10:16:49.499414Z",
     "iopub.status.busy": "2025-03-17T10:16:49.498911Z",
     "iopub.status.idle": "2025-03-17T10:16:49.521208Z",
     "shell.execute_reply": "2025-03-17T10:16:49.520765Z",
     "shell.execute_reply.started": "2025-03-17T10:16:49.499375Z"
    }
   },
   "outputs": [],
   "source": [
    "target = list(id2label.keys())  \n",
    "target_names = list(id2label.values())\n",
    "from sklearn import metrics\n",
    "test_predictions = test_pred.predictions\n",
    "# test_predictions = test_pred.label_ids\n",
    "test_predictions = labelids\n",
    "# threshold = np.round(metrics.roc_auc_score(y_test6, y_pred6,multi_class='ovo', average='weighted'),4)\n",
    "# print('ROC AUC Score is :', threshold)\n",
    "print('Accuracy score is :', np.round(metrics.accuracy_score(y_test,  test_predictions),4))\n",
    "print('Precision score is :', np.round(metrics.precision_score(y_test, test_predictions, average='weighted'),4))\n",
    "print('Recall score is :', np.round(metrics.recall_score(y_test,  test_predictions, average='weighted'),4))\n",
    "print('F1 Score is :', np.round(metrics.f1_score(y_test,  test_predictions, average='weighted'),4))\n",
    "print('Cohen Kappa Score:', np.round(metrics.cohen_kappa_score(y_test,  test_predictions),4))\n",
    "print('\\t\\tClassification Report:\\n', metrics.classification_report(y_test,  test_predictions, labels=target, target_names=target_names))"
   ]
  },
  {
   "cell_type": "markdown",
   "id": "950291d1-fd9c-42ab-8c46-9718d2c67f14",
   "metadata": {},
   "source": [
    "## Swin Inference from Finetuned Checkpoints"
   ]
  },
  {
   "cell_type": "code",
   "execution_count": null,
   "id": "87fb936a-f5b3-421e-8967-08fbc2084cae",
   "metadata": {
    "execution": {
     "iopub.execute_input": "2025-03-17T10:20:25.607713Z",
     "iopub.status.busy": "2025-03-17T10:20:25.607016Z",
     "iopub.status.idle": "2025-03-17T10:20:26.153228Z",
     "shell.execute_reply": "2025-03-17T10:20:26.152808Z",
     "shell.execute_reply.started": "2025-03-17T10:20:25.607672Z"
    }
   },
   "outputs": [],
   "source": [
    "# Replace this path with the correct path to your fine-tuned model\n",
    "checkpoint_path = \"/mnt/SSD/hasan/Agile-Styling-ai/Finetuned_Checpoint/Swin_v2_Checkpoints/R_C_P_4th_3rd_2nd_1st/Test-1/checkpoint-955\"\n",
    "\n",
    "# Load the model and the processor (image processor)\n",
    "model = AutoModelForImageClassification.from_pretrained(\n",
    "    checkpoint_path,\n",
    "    label2id=label2id,\n",
    "    id2label=id2label,\n",
    "    ignore_mismatched_sizes=True\n",
    ").to(device)\n",
    "\n",
    "image_processor = AutoImageProcessor.from_pretrained(checkpoint_path)"
   ]
  },
  {
   "cell_type": "code",
   "execution_count": null,
   "id": "efc502e2-2776-489d-aa5c-0589c37a9fc5",
   "metadata": {
    "execution": {
     "iopub.execute_input": "2025-03-17T10:20:29.079637Z",
     "iopub.status.busy": "2025-03-17T10:20:29.079223Z",
     "iopub.status.idle": "2025-03-17T10:20:29.083050Z",
     "shell.execute_reply": "2025-03-17T10:20:29.082511Z",
     "shell.execute_reply.started": "2025-03-17T10:20:29.079615Z"
    }
   },
   "outputs": [],
   "source": [
    "# Define the test dataset transforms (only resizing and normalization)\n",
    "test_transform = transforms.Compose([\n",
    "    transforms.Resize((224, 224)),\n",
    "    transforms.ToTensor(),\n",
    "    transforms.Normalize(mean=[0.485, 0.456, 0.406], std=[0.229, 0.224, 0.225]),\n",
    "])\n",
    "\n",
    "# Create DataLoader for the test dataset (without augmentation)\n",
    "test_dataset = AgileDataset(test_metadata, transform=test_transform)\n",
    "test_loader = DataLoader(test_dataset, batch_size=16, shuffle=False)\n"
   ]
  },
  {
   "cell_type": "code",
   "execution_count": null,
   "id": "7be51881-47ce-42bd-a57c-4e6aad8192e3",
   "metadata": {
    "execution": {
     "iopub.execute_input": "2024-12-13T13:39:39.459920Z",
     "iopub.status.busy": "2024-12-13T13:39:39.459487Z",
     "iopub.status.idle": "2024-12-13T13:39:39.461797Z",
     "shell.execute_reply": "2024-12-13T13:39:39.461474Z",
     "shell.execute_reply.started": "2024-12-13T13:39:39.459905Z"
    }
   },
   "outputs": [],
   "source": [
    "from sklearn import metrics"
   ]
  },
  {
   "cell_type": "code",
   "execution_count": null,
   "id": "3418ea18-3fe4-42aa-b092-7f11b634f108",
   "metadata": {
    "execution": {
     "iopub.execute_input": "2025-03-17T10:20:33.128641Z",
     "iopub.status.busy": "2025-03-17T10:20:33.128218Z",
     "iopub.status.idle": "2025-03-17T10:20:39.249535Z",
     "shell.execute_reply": "2025-03-17T10:20:39.249197Z",
     "shell.execute_reply.started": "2025-03-17T10:20:33.128620Z"
    }
   },
   "outputs": [],
   "source": [
    "# Use the trained model to predict on the test dataset\n",
    "test_pred = trainer.predict(test_dataset)"
   ]
  },
  {
   "cell_type": "code",
   "execution_count": null,
   "id": "6fc633b1-d79c-4063-91b6-1f2b42348de1",
   "metadata": {
    "execution": {
     "iopub.execute_input": "2025-03-17T10:20:42.087154Z",
     "iopub.status.busy": "2025-03-17T10:20:42.086819Z",
     "iopub.status.idle": "2025-03-17T10:20:42.089997Z",
     "shell.execute_reply": "2025-03-17T10:20:42.089635Z",
     "shell.execute_reply.started": "2025-03-17T10:20:42.087139Z"
    }
   },
   "outputs": [],
   "source": [
    "labelids = [np.argmax(a) for a in test_pred.predictions]"
   ]
  },
  {
   "cell_type": "code",
   "execution_count": null,
   "id": "9577fed6-df9d-40ed-9acd-42d15a9058e3",
   "metadata": {
    "execution": {
     "iopub.execute_input": "2025-03-17T10:20:44.264111Z",
     "iopub.status.busy": "2025-03-17T10:20:44.263790Z",
     "iopub.status.idle": "2025-03-17T10:20:46.578207Z",
     "shell.execute_reply": "2025-03-17T10:20:46.577878Z",
     "shell.execute_reply.started": "2025-03-17T10:20:44.264085Z"
    }
   },
   "outputs": [],
   "source": [
    "y_test = torch.tensor([label2id[test_dataset[i]['label']] for i in range(len(test_dataset))])\n",
    "y_test.shape"
   ]
  },
  {
   "cell_type": "code",
   "execution_count": null,
   "id": "ec2f1ded-591d-4f86-99e8-9cdf4a80dc8b",
   "metadata": {
    "execution": {
     "iopub.execute_input": "2024-12-13T12:04:51.995190Z",
     "iopub.status.busy": "2024-12-13T12:04:51.994879Z",
     "iopub.status.idle": "2024-12-13T12:04:52.014268Z",
     "shell.execute_reply": "2024-12-13T12:04:52.013562Z",
     "shell.execute_reply.started": "2024-12-13T12:04:51.995177Z"
    }
   },
   "outputs": [],
   "source": [
    "# On New Data\n",
    "target = list(id2label.keys())  \n",
    "target_names = list(id2label.values())\n",
    "from sklearn import metrics\n",
    "test_predictions = test_pred.predictions\n",
    "# test_predictions = test_pred.label_ids\n",
    "test_predictions = labelids\n",
    "# threshold = np.round(metrics.roc_auc_score(y_test6, y_pred6,multi_class='ovo', average='weighted'),4)\n",
    "# print('ROC AUC Score is :', threshold)\n",
    "print('Accuracy score is :', np.round(metrics.accuracy_score(y_test,  test_predictions),4))\n",
    "print('Precision score is :', np.round(metrics.precision_score(y_test, test_predictions, average='weighted'),4))\n",
    "print('Recall score is :', np.round(metrics.recall_score(y_test,  test_predictions, average='weighted'),4))\n",
    "print('F1 Score is :', np.round(metrics.f1_score(y_test,  test_predictions, average='weighted'),4))\n",
    "print('Cohen Kappa Score:', np.round(metrics.cohen_kappa_score(y_test,  test_predictions),4))\n",
    "print('\\t\\tClassification Report:\\n', metrics.classification_report(y_test,  test_predictions, labels=target, target_names=target_names))"
   ]
  },
  {
   "cell_type": "markdown",
   "id": "f4d9431d-d81d-4a4c-bebf-689955a4fe55",
   "metadata": {},
   "source": [
    "# Beit"
   ]
  },
  {
   "cell_type": "code",
   "execution_count": null,
   "id": "219f20c9-f79e-409e-ac2d-c175406f5bc1",
   "metadata": {
    "execution": {
     "iopub.execute_input": "2025-03-17T10:23:44.803968Z",
     "iopub.status.busy": "2025-03-17T10:23:44.803585Z",
     "iopub.status.idle": "2025-03-17T10:23:45.681293Z",
     "shell.execute_reply": "2025-03-17T10:23:45.680839Z",
     "shell.execute_reply.started": "2025-03-17T10:23:44.803929Z"
    }
   },
   "outputs": [],
   "source": [
    "# Load the image processor for the specified model checkpoint\n",
    "# model_checkpoint = \"Vit-project-80-5-15/beit_model/train-3/checkpoint-2600\"\n",
    "model_checkpoint = \"microsoft/beit-base-patch16-224\"\n",
    "image_processor = AutoImageProcessor.from_pretrained(\"microsoft/beit-base-patch16-224\")"
   ]
  },
  {
   "cell_type": "code",
   "execution_count": null,
   "id": "e3476a67-927b-45d0-ba79-71340319ddc5",
   "metadata": {
    "execution": {
     "iopub.execute_input": "2025-03-17T10:23:48.757929Z",
     "iopub.status.busy": "2025-03-17T10:23:48.757277Z",
     "iopub.status.idle": "2025-03-17T10:23:51.829025Z",
     "shell.execute_reply": "2025-03-17T10:23:51.828432Z",
     "shell.execute_reply.started": "2025-03-17T10:23:48.757890Z"
    }
   },
   "outputs": [],
   "source": [
    "# Create the ViT model\n",
    "model = AutoModelForImageClassification.from_pretrained(\n",
    "    model_checkpoint,\n",
    "    label2id = label2id,\n",
    "    id2label = id2label,\n",
    "    ignore_mismatched_sizes=True).to('cuda')"
   ]
  },
  {
   "cell_type": "code",
   "execution_count": null,
   "id": "0ff75a3f-5eb7-41cf-94ed-4a406e1fe877",
   "metadata": {
    "execution": {
     "iopub.execute_input": "2024-12-11T14:19:15.597172Z",
     "iopub.status.busy": "2024-12-11T14:19:15.596978Z",
     "iopub.status.idle": "2024-12-11T14:19:15.599493Z",
     "shell.execute_reply": "2024-12-11T14:19:15.599165Z",
     "shell.execute_reply.started": "2024-12-11T14:19:15.597159Z"
    }
   },
   "outputs": [],
   "source": [
    "# callback = EarlyStoppingCallback(early_stopping_patience=30)"
   ]
  },
  {
   "cell_type": "code",
   "execution_count": null,
   "id": "13f89395-7fae-4265-98b8-d04567512223",
   "metadata": {
    "execution": {
     "iopub.execute_input": "2025-03-17T11:40:27.304840Z",
     "iopub.status.busy": "2025-03-17T11:40:27.304176Z",
     "iopub.status.idle": "2025-03-17T11:40:27.414007Z",
     "shell.execute_reply": "2025-03-17T11:40:27.413446Z",
     "shell.execute_reply.started": "2025-03-17T11:40:27.304812Z"
    }
   },
   "outputs": [],
   "source": [
    "# Training arguments\n",
    "batch_size = 16\n",
    "epochs = 50\n",
    "training_args = TrainingArguments(\n",
    "    output_dir=\"/mnt/SSD/hasan/Agile-Styling-ai/Finetuned_Checpoint/Beit_Checkpoints/R_C_P_4th_3rd_2nd_1st/Test-1\",\n",
    "    remove_unused_columns=False,\n",
    "    evaluation_strategy=\"steps\",\n",
    "    save_strategy=\"steps\",\n",
    "    eval_steps=10,\n",
    "    save_steps=10,\n",
    "    save_total_limit=3,\n",
    "    logging_steps=10,\n",
    "    learning_rate=0.00001,\n",
    "    per_device_train_batch_size=batch_size,\n",
    "    gradient_accumulation_steps=2,\n",
    "    per_device_eval_batch_size=12,\n",
    "    num_train_epochs=epochs,\n",
    "    max_steps=int(np.ceil(len(train_dataset)/batch_size*epochs)),\n",
    "    load_best_model_at_end=True,\n",
    "    metric_for_best_model=\"eval_overall_f1\",\n",
    "    )"
   ]
  },
  {
   "cell_type": "code",
   "execution_count": null,
   "id": "d3716f2e-4bb9-4a61-aaec-876c11f479f7",
   "metadata": {
    "execution": {
     "iopub.execute_input": "2025-03-17T11:40:30.535971Z",
     "iopub.status.busy": "2025-03-17T11:40:30.535419Z",
     "iopub.status.idle": "2025-03-17T11:40:30.554914Z",
     "shell.execute_reply": "2025-03-17T11:40:30.554341Z",
     "shell.execute_reply.started": "2025-03-17T11:40:30.535948Z"
    }
   },
   "outputs": [],
   "source": [
    "# Trainer\n",
    "trainer = Trainer(\n",
    "    model=model,\n",
    "    args=training_args,\n",
    "    train_dataset=train_dataset,\n",
    "    eval_dataset=val_dataset,\n",
    "    # tokenizer=image_processor,\n",
    "    compute_metrics=compute_metrics,\n",
    "    data_collator=collate_fn,\n",
    "    # callbacks=[callback]\n",
    "    )"
   ]
  },
  {
   "cell_type": "code",
   "execution_count": null,
   "id": "54b1fb3f-57f8-4ada-b419-e76d8a1b8008",
   "metadata": {
    "execution": {
     "iopub.execute_input": "2025-03-17T10:25:16.793245Z",
     "iopub.status.busy": "2025-03-17T10:25:16.792729Z",
     "iopub.status.idle": "2025-03-17T11:34:33.134883Z",
     "shell.execute_reply": "2025-03-17T11:34:33.134141Z",
     "shell.execute_reply.started": "2025-03-17T10:25:16.793222Z"
    },
    "scrolled": true
   },
   "outputs": [],
   "source": [
    "# Training\n",
    "train_results = trainer.train()"
   ]
  },
  {
   "cell_type": "code",
   "execution_count": null,
   "id": "b1074a99-95e5-42b1-ac20-a0745016918f",
   "metadata": {
    "execution": {
     "iopub.execute_input": "2025-03-17T11:34:37.770587Z",
     "iopub.status.busy": "2025-03-17T11:34:37.770195Z",
     "iopub.status.idle": "2025-03-17T11:34:47.688712Z",
     "shell.execute_reply": "2025-03-17T11:34:47.688363Z",
     "shell.execute_reply.started": "2025-03-17T11:34:37.770573Z"
    }
   },
   "outputs": [],
   "source": [
    "test_pred = trainer.predict(test_dataset)"
   ]
  },
  {
   "cell_type": "code",
   "execution_count": null,
   "id": "791032cb-2ada-463d-a740-45140199ba09",
   "metadata": {
    "execution": {
     "iopub.execute_input": "2025-03-17T11:34:51.900564Z",
     "iopub.status.busy": "2025-03-17T11:34:51.900242Z",
     "iopub.status.idle": "2025-03-17T11:34:51.903606Z",
     "shell.execute_reply": "2025-03-17T11:34:51.903319Z",
     "shell.execute_reply.started": "2025-03-17T11:34:51.900538Z"
    }
   },
   "outputs": [],
   "source": [
    "test_pred.metrics"
   ]
  },
  {
   "cell_type": "code",
   "execution_count": null,
   "id": "622b5aa2-fc4d-445c-ae37-2694785c80f2",
   "metadata": {
    "execution": {
     "iopub.execute_input": "2025-03-17T11:34:56.171842Z",
     "iopub.status.busy": "2025-03-17T11:34:56.171274Z",
     "iopub.status.idle": "2025-03-17T11:34:56.176010Z",
     "shell.execute_reply": "2025-03-17T11:34:56.175521Z",
     "shell.execute_reply.started": "2025-03-17T11:34:56.171810Z"
    }
   },
   "outputs": [],
   "source": [
    "test_pred.metrics"
   ]
  },
  {
   "cell_type": "code",
   "execution_count": null,
   "id": "6d5a8303-a469-428a-aa0f-d667749849ea",
   "metadata": {
    "execution": {
     "iopub.execute_input": "2025-03-17T11:35:00.059355Z",
     "iopub.status.busy": "2025-03-17T11:35:00.058904Z",
     "iopub.status.idle": "2025-03-17T11:35:07.645375Z",
     "shell.execute_reply": "2025-03-17T11:35:07.645011Z",
     "shell.execute_reply.started": "2025-03-17T11:35:00.059339Z"
    }
   },
   "outputs": [],
   "source": [
    "y_test = torch.tensor([label2id[test_dataset[i]['label']] for i in range(len(test_dataset))])\n",
    "y_test.shape"
   ]
  },
  {
   "cell_type": "code",
   "execution_count": null,
   "id": "2deee693-1729-4a01-b7fd-6d78d9cbcd6e",
   "metadata": {
    "execution": {
     "iopub.execute_input": "2025-03-17T11:35:12.490361Z",
     "iopub.status.busy": "2025-03-17T11:35:12.489821Z",
     "iopub.status.idle": "2025-03-17T11:35:12.492996Z",
     "shell.execute_reply": "2025-03-17T11:35:12.492350Z",
     "shell.execute_reply.started": "2025-03-17T11:35:12.490341Z"
    }
   },
   "outputs": [],
   "source": [
    "print(len(y_test))  # true labels you have\n",
    "print(len(test_pred))  # Predictions made"
   ]
  },
  {
   "cell_type": "code",
   "execution_count": null,
   "id": "ebfafc7e-299e-4b73-87ca-9129bace8772",
   "metadata": {
    "execution": {
     "iopub.execute_input": "2024-11-11T09:18:14.173623Z",
     "iopub.status.busy": "2024-11-11T09:18:14.173521Z",
     "iopub.status.idle": "2024-11-11T09:18:14.175307Z",
     "shell.execute_reply": "2024-11-11T09:18:14.175020Z",
     "shell.execute_reply.started": "2024-11-11T09:18:14.173612Z"
    }
   },
   "outputs": [],
   "source": [
    "# (test_pred)"
   ]
  },
  {
   "cell_type": "code",
   "execution_count": null,
   "id": "8884e0aa-4bb8-4460-a34f-87a7aa23a4a4",
   "metadata": {
    "execution": {
     "iopub.execute_input": "2025-03-17T11:35:15.675006Z",
     "iopub.status.busy": "2025-03-17T11:35:15.674222Z",
     "iopub.status.idle": "2025-03-17T11:35:15.681014Z",
     "shell.execute_reply": "2025-03-17T11:35:15.680340Z",
     "shell.execute_reply.started": "2025-03-17T11:35:15.674978Z"
    }
   },
   "outputs": [],
   "source": [
    "# Check the length of both\n",
    "print(f\"Length of y_test: {len(y_test)}\")\n",
    "print(f\"Length of test_pred: {len(test_pred.predictions)}\")\n",
    "\n",
    "# Optionally, check the first few values to make sure they look correct\n",
    "print(f\"First 5 true labels: {y_test[:5]}\")\n",
    "print(f\"First 5 predictions: {test_pred[:5]}\")\n"
   ]
  },
  {
   "cell_type": "code",
   "execution_count": null,
   "id": "a4a71441-8f2e-478a-9cdd-5d50e7087979",
   "metadata": {
    "execution": {
     "iopub.execute_input": "2025-03-17T11:35:19.228137Z",
     "iopub.status.busy": "2025-03-17T11:35:19.227350Z",
     "iopub.status.idle": "2025-03-17T11:35:19.233476Z",
     "shell.execute_reply": "2025-03-17T11:35:19.233128Z",
     "shell.execute_reply.started": "2025-03-17T11:35:19.228100Z"
    },
    "scrolled": true
   },
   "outputs": [],
   "source": [
    "test_pred"
   ]
  },
  {
   "cell_type": "code",
   "execution_count": null,
   "id": "83fca2ba-be93-491b-9fc2-e541392352d8",
   "metadata": {
    "execution": {
     "iopub.execute_input": "2025-03-17T11:35:21.547682Z",
     "iopub.status.busy": "2025-03-17T11:35:21.547040Z",
     "iopub.status.idle": "2025-03-17T11:35:21.554241Z",
     "shell.execute_reply": "2025-03-17T11:35:21.553666Z",
     "shell.execute_reply.started": "2025-03-17T11:35:21.547655Z"
    }
   },
   "outputs": [],
   "source": [
    "y_test"
   ]
  },
  {
   "cell_type": "code",
   "execution_count": null,
   "id": "ce07384e-a543-4c05-996d-b4a3aef3f379",
   "metadata": {
    "execution": {
     "iopub.execute_input": "2025-03-17T11:35:25.579717Z",
     "iopub.status.busy": "2025-03-17T11:35:25.579079Z",
     "iopub.status.idle": "2025-03-17T11:35:25.584408Z",
     "shell.execute_reply": "2025-03-17T11:35:25.583718Z",
     "shell.execute_reply.started": "2025-03-17T11:35:25.579681Z"
    },
    "scrolled": true
   },
   "outputs": [],
   "source": [
    "test_pred.predictions"
   ]
  },
  {
   "cell_type": "code",
   "execution_count": null,
   "id": "c1213834-b0a9-4439-9e59-4fb3434165c1",
   "metadata": {
    "execution": {
     "iopub.execute_input": "2025-03-17T11:35:28.026829Z",
     "iopub.status.busy": "2025-03-17T11:35:28.026476Z",
     "iopub.status.idle": "2025-03-17T11:35:28.032041Z",
     "shell.execute_reply": "2025-03-17T11:35:28.031371Z",
     "shell.execute_reply.started": "2025-03-17T11:35:28.026803Z"
    }
   },
   "outputs": [],
   "source": [
    "labelids = [np.argmax(a) for a in test_pred.predictions]"
   ]
  },
  {
   "cell_type": "code",
   "execution_count": null,
   "id": "9f2ae907-f1c0-4780-b49e-927c0e52b307",
   "metadata": {
    "execution": {
     "iopub.execute_input": "2025-03-17T11:35:30.410085Z",
     "iopub.status.busy": "2025-03-17T11:35:30.409406Z",
     "iopub.status.idle": "2025-03-17T11:35:30.415132Z",
     "shell.execute_reply": "2025-03-17T11:35:30.414548Z",
     "shell.execute_reply.started": "2025-03-17T11:35:30.410057Z"
    }
   },
   "outputs": [],
   "source": [
    "test_pred.label_ids"
   ]
  },
  {
   "cell_type": "code",
   "execution_count": null,
   "id": "faa5d3c8-d114-4ab8-96cc-8ebb86c51a63",
   "metadata": {
    "execution": {
     "iopub.execute_input": "2025-03-17T11:35:33.451748Z",
     "iopub.status.busy": "2025-03-17T11:35:33.451207Z",
     "iopub.status.idle": "2025-03-17T11:35:33.470105Z",
     "shell.execute_reply": "2025-03-17T11:35:33.469716Z",
     "shell.execute_reply.started": "2025-03-17T11:35:33.451721Z"
    }
   },
   "outputs": [],
   "source": [
    "target = list(id2label.keys())  \n",
    "target_names = list(id2label.values())\n",
    "from sklearn import metrics\n",
    "test_predictions = test_pred.predictions\n",
    "# test_predictions = test_pred.label_ids\n",
    "test_predictions = labelids\n",
    "# threshold = np.round(metrics.roc_auc_score(y_test6, y_pred6,multi_class='ovo', average='weighted'),4)\n",
    "# print('ROC AUC Score is :', threshold)\n",
    "print('Accuracy score is :', np.round(metrics.accuracy_score(y_test,  test_predictions),4))\n",
    "print('Precision score is :', np.round(metrics.precision_score(y_test, test_predictions, average='weighted'),4))\n",
    "print('Recall score is :', np.round(metrics.recall_score(y_test,  test_predictions, average='weighted'),4))\n",
    "print('F1 Score is :', np.round(metrics.f1_score(y_test,  test_predictions, average='weighted'),4))\n",
    "print('Cohen Kappa Score:', np.round(metrics.cohen_kappa_score(y_test,  test_predictions),4))\n",
    "print('\\t\\tClassification Report:\\n', metrics.classification_report(y_test,  test_predictions, labels=target, target_names=target_names))"
   ]
  },
  {
   "cell_type": "markdown",
   "id": "826e1e48-9304-4484-a09d-d7a8e5e6f155",
   "metadata": {},
   "source": [
    "## Beit Inference from Finetuned Checkpoints"
   ]
  },
  {
   "cell_type": "code",
   "execution_count": null,
   "id": "688f146e-8cdd-4f81-b65c-99286f68c710",
   "metadata": {
    "execution": {
     "iopub.execute_input": "2025-03-03T08:52:33.345246Z",
     "iopub.status.busy": "2025-03-03T08:52:33.344890Z",
     "iopub.status.idle": "2025-03-03T08:53:36.679820Z",
     "shell.execute_reply": "2025-03-03T08:53:36.678512Z",
     "shell.execute_reply.started": "2025-03-03T08:52:33.345230Z"
    }
   },
   "outputs": [],
   "source": [
    "test_pred = trainer.predict(test_dataset)"
   ]
  },
  {
   "cell_type": "code",
   "execution_count": null,
   "id": "e7496906-91b0-48e7-b049-e6a7f7b24029",
   "metadata": {
    "execution": {
     "iopub.execute_input": "2025-03-03T08:53:46.539530Z",
     "iopub.status.busy": "2025-03-03T08:53:46.529776Z",
     "iopub.status.idle": "2025-03-03T08:53:46.624144Z",
     "shell.execute_reply": "2025-03-03T08:53:46.623437Z",
     "shell.execute_reply.started": "2025-03-03T08:53:46.539480Z"
    }
   },
   "outputs": [],
   "source": [
    "labelids = [np.argmax(a) for a in test_pred.predictions]"
   ]
  },
  {
   "cell_type": "code",
   "execution_count": null,
   "id": "71ff70b0-7ec0-4802-8e69-b0846d4790f3",
   "metadata": {
    "execution": {
     "iopub.execute_input": "2025-03-03T08:53:57.608735Z",
     "iopub.status.busy": "2025-03-03T08:53:57.608389Z",
     "iopub.status.idle": "2025-03-03T08:55:14.561067Z",
     "shell.execute_reply": "2025-03-03T08:55:14.558970Z",
     "shell.execute_reply.started": "2025-03-03T08:53:57.608707Z"
    }
   },
   "outputs": [],
   "source": [
    "y_test = torch.tensor([label2id[test_dataset[i]['label']] for i in range(len(test_dataset))])\n",
    "y_test.shape"
   ]
  },
  {
   "cell_type": "code",
   "execution_count": null,
   "id": "2a12d122-d46c-4b98-8f07-892a262a72f8",
   "metadata": {
    "execution": {
     "iopub.execute_input": "2025-03-17T11:40:38.008195Z",
     "iopub.status.busy": "2025-03-17T11:40:38.007304Z",
     "iopub.status.idle": "2025-03-17T11:40:38.539147Z",
     "shell.execute_reply": "2025-03-17T11:40:38.538715Z",
     "shell.execute_reply.started": "2025-03-17T11:40:38.008155Z"
    }
   },
   "outputs": [],
   "source": [
    "# Replace this path with the correct path to your fine-tuned model\n",
    "checkpoint_path = \"/mnt/SSD/hasan/Agile-Styling-ai/Finetuned_Checpoint/Beit_Checkpoints/R_C_P_4th_3rd_2nd_1st/Test-1/checkpoint-1120\"\n",
    "\n",
    "# Load the model and the processor (image processor)\n",
    "model = AutoModelForImageClassification.from_pretrained(\n",
    "    checkpoint_path,\n",
    "    label2id=label2id,\n",
    "    id2label=id2label,\n",
    "    ignore_mismatched_sizes=True\n",
    ").to(device)\n",
    "\n",
    "image_processor = AutoImageProcessor.from_pretrained(checkpoint_path)"
   ]
  },
  {
   "cell_type": "code",
   "execution_count": null,
   "id": "9cc84589-3a4f-458d-977c-8ec075e4602c",
   "metadata": {
    "execution": {
     "iopub.execute_input": "2025-03-17T11:40:39.861827Z",
     "iopub.status.busy": "2025-03-17T11:40:39.861357Z",
     "iopub.status.idle": "2025-03-17T11:40:39.864919Z",
     "shell.execute_reply": "2025-03-17T11:40:39.864567Z",
     "shell.execute_reply.started": "2025-03-17T11:40:39.861807Z"
    }
   },
   "outputs": [],
   "source": [
    "# Define the test dataset transforms (only resizing and normalization)\n",
    "test_transform = transforms.Compose([\n",
    "    transforms.Resize((224, 224)),\n",
    "    transforms.ToTensor(),\n",
    "    transforms.Normalize(mean=[0.485, 0.456, 0.406], std=[0.229, 0.224, 0.225]),\n",
    "])\n",
    "\n",
    "# Create DataLoader for the test dataset (without augmentation)\n",
    "test_dataset = AgileDataset(test_metadata, transform=test_transform)\n",
    "test_loader = DataLoader(test_dataset, batch_size=16, shuffle=False)\n"
   ]
  },
  {
   "cell_type": "code",
   "execution_count": null,
   "id": "983e5cac-1553-4622-92e4-13c185cbe92c",
   "metadata": {
    "execution": {
     "iopub.execute_input": "2024-12-13T12:44:13.603804Z",
     "iopub.status.busy": "2024-12-13T12:44:13.603450Z",
     "iopub.status.idle": "2024-12-13T12:44:13.606193Z",
     "shell.execute_reply": "2024-12-13T12:44:13.605884Z",
     "shell.execute_reply.started": "2024-12-13T12:44:13.603777Z"
    }
   },
   "outputs": [],
   "source": [
    "from sklearn import metrics"
   ]
  },
  {
   "cell_type": "code",
   "execution_count": null,
   "id": "c08260a5-2ea2-4b56-8ddc-903b5986825a",
   "metadata": {
    "execution": {
     "iopub.execute_input": "2025-03-17T11:40:43.624797Z",
     "iopub.status.busy": "2025-03-17T11:40:43.624181Z",
     "iopub.status.idle": "2025-03-17T11:40:47.527000Z",
     "shell.execute_reply": "2025-03-17T11:40:47.526648Z",
     "shell.execute_reply.started": "2025-03-17T11:40:43.624773Z"
    }
   },
   "outputs": [],
   "source": [
    "# Use the trained model to predict on the test dataset\n",
    "test_pred = trainer.predict(test_dataset)"
   ]
  },
  {
   "cell_type": "code",
   "execution_count": null,
   "id": "e1115737-9a5d-4473-bb71-7243decdef1c",
   "metadata": {
    "execution": {
     "iopub.execute_input": "2025-03-17T11:40:49.607365Z",
     "iopub.status.busy": "2025-03-17T11:40:49.607153Z",
     "iopub.status.idle": "2025-03-17T11:40:49.610659Z",
     "shell.execute_reply": "2025-03-17T11:40:49.610004Z",
     "shell.execute_reply.started": "2025-03-17T11:40:49.607351Z"
    }
   },
   "outputs": [],
   "source": [
    "labelids = [np.argmax(a) for a in test_pred.predictions]"
   ]
  },
  {
   "cell_type": "code",
   "execution_count": null,
   "id": "75cc4583-32f1-4c2d-b17a-d689d3036b69",
   "metadata": {
    "execution": {
     "iopub.execute_input": "2025-03-17T11:40:51.592041Z",
     "iopub.status.busy": "2025-03-17T11:40:51.591362Z",
     "iopub.status.idle": "2025-03-17T11:40:53.903050Z",
     "shell.execute_reply": "2025-03-17T11:40:53.902708Z",
     "shell.execute_reply.started": "2025-03-17T11:40:51.592014Z"
    }
   },
   "outputs": [],
   "source": [
    "y_test = torch.tensor([label2id[test_dataset[i]['label']] for i in range(len(test_dataset))])\n",
    "y_test.shape"
   ]
  },
  {
   "cell_type": "code",
   "execution_count": null,
   "id": "19064f9c-b435-49df-8b64-dccea85fc072",
   "metadata": {
    "execution": {
     "iopub.execute_input": "2025-03-17T11:40:58.917602Z",
     "iopub.status.busy": "2025-03-17T11:40:58.917204Z",
     "iopub.status.idle": "2025-03-17T11:40:58.930608Z",
     "shell.execute_reply": "2025-03-17T11:40:58.930258Z",
     "shell.execute_reply.started": "2025-03-17T11:40:58.917587Z"
    }
   },
   "outputs": [],
   "source": [
    "# 1120\n",
    "target = list(id2label.keys())  \n",
    "target_names = list(id2label.values())\n",
    "from sklearn import metrics\n",
    "test_predictions = test_pred.predictions\n",
    "# test_predictions = test_pred.label_ids\n",
    "test_predictions = labelids\n",
    "# threshold = np.round(metrics.roc_auc_score(y_test6, y_pred6,multi_class='ovo', average='weighted'),4)\n",
    "# print('ROC AUC Score is :', threshold)\n",
    "print('Accuracy score is :', np.round(metrics.accuracy_score(y_test,  test_predictions),4))\n",
    "print('Precision score is :', np.round(metrics.precision_score(y_test, test_predictions, average='weighted'),4))\n",
    "print('Recall score is :', np.round(metrics.recall_score(y_test,  test_predictions, average='weighted'),4))\n",
    "print('F1 Score is :', np.round(metrics.f1_score(y_test,  test_predictions, average='weighted'),4))\n",
    "print('Cohen Kappa Score:', np.round(metrics.cohen_kappa_score(y_test,  test_predictions),4))\n",
    "print('\\t\\tClassification Report:\\n', metrics.classification_report(y_test,  test_predictions, labels=target, target_names=target_names))"
   ]
  },
  {
   "cell_type": "markdown",
   "id": "82148f26-c373-4d64-9256-2816a9f3ed37",
   "metadata": {},
   "source": [
    "# Ensemble"
   ]
  },
  {
   "cell_type": "markdown",
   "id": "19889d53-5ceb-4ae9-b7a6-00656577ec01",
   "metadata": {},
   "source": [
    "## Load Dino"
   ]
  },
  {
   "cell_type": "code",
   "execution_count": null,
   "id": "01ab0f88-11d9-4e49-8110-d3def0060840",
   "metadata": {
    "execution": {
     "iopub.execute_input": "2025-03-17T11:45:10.693182Z",
     "iopub.status.busy": "2025-03-17T11:45:10.692881Z",
     "iopub.status.idle": "2025-03-17T11:45:10.695754Z",
     "shell.execute_reply": "2025-03-17T11:45:10.695115Z",
     "shell.execute_reply.started": "2025-03-17T11:45:10.693165Z"
    }
   },
   "outputs": [],
   "source": [
    "# model_checkpoint = \"/content/drive/MyDrive/re/swinv2_results/swinv2-checkpoint\"\n",
    "model_checkpoint = \"/mnt/SSD/hasan/Agile-Styling-ai/Finetuned_Checpoint/Dinov2_Checkpoints/R_C_P_4th_3rd_2nd_1st/Test-1/checkpoint-255\""
   ]
  },
  {
   "cell_type": "code",
   "execution_count": null,
   "id": "7e046218-a20e-4487-822b-4ae40c8afa3b",
   "metadata": {
    "execution": {
     "iopub.execute_input": "2025-03-17T11:45:10.946709Z",
     "iopub.status.busy": "2025-03-17T11:45:10.946381Z",
     "iopub.status.idle": "2025-03-17T11:45:12.873029Z",
     "shell.execute_reply": "2025-03-17T11:45:12.872586Z",
     "shell.execute_reply.started": "2025-03-17T11:45:10.946672Z"
    }
   },
   "outputs": [],
   "source": [
    "# Create the ViT model\n",
    "model = AutoModelForImageClassification.from_pretrained(\n",
    "    model_checkpoint,\n",
    "    label2id = label2id,\n",
    "    id2label = id2label,\n",
    "    ignore_mismatched_sizes=True).to('cuda')"
   ]
  },
  {
   "cell_type": "code",
   "execution_count": null,
   "id": "6a90d106-a1a1-4ded-a764-3df87de5fad9",
   "metadata": {
    "execution": {
     "iopub.execute_input": "2025-03-17T11:45:12.873827Z",
     "iopub.status.busy": "2025-03-17T11:45:12.873709Z",
     "iopub.status.idle": "2025-03-17T11:45:12.875925Z",
     "shell.execute_reply": "2025-03-17T11:45:12.875525Z",
     "shell.execute_reply.started": "2025-03-17T11:45:12.873815Z"
    }
   },
   "outputs": [],
   "source": [
    "import torch.nn as nn"
   ]
  },
  {
   "cell_type": "code",
   "execution_count": null,
   "id": "91d5189a-6b2c-491d-93cb-d963df90e077",
   "metadata": {
    "execution": {
     "iopub.execute_input": "2025-03-17T11:45:12.876512Z",
     "iopub.status.busy": "2025-03-17T11:45:12.876377Z",
     "iopub.status.idle": "2025-03-17T11:45:12.878696Z",
     "shell.execute_reply": "2025-03-17T11:45:12.878324Z",
     "shell.execute_reply.started": "2025-03-17T11:45:12.876499Z"
    }
   },
   "outputs": [],
   "source": [
    "dino_model = nn.Sequential(*list(model.children())[:-1])\n",
    "# new_model = model.children()[:-1]\n",
    "# new_model"
   ]
  },
  {
   "cell_type": "markdown",
   "id": "d44071b3-9b7e-407c-904d-3ce99355ae45",
   "metadata": {},
   "source": [
    "## Load Swin"
   ]
  },
  {
   "cell_type": "code",
   "execution_count": null,
   "id": "7fed3fde-a417-4ffc-995c-f9243eb198a1",
   "metadata": {
    "execution": {
     "iopub.execute_input": "2025-03-17T11:45:15.812031Z",
     "iopub.status.busy": "2025-03-17T11:45:15.811651Z",
     "iopub.status.idle": "2025-03-17T11:45:15.815446Z",
     "shell.execute_reply": "2025-03-17T11:45:15.814868Z",
     "shell.execute_reply.started": "2025-03-17T11:45:15.812005Z"
    }
   },
   "outputs": [],
   "source": [
    "# model_checkpoint = \"/content/drive/MyDrive/re/swinv2_results/swinv2-checkpoint\"\n",
    "model_checkpoint = \"/mnt/SSD/hasan/Agile-Styling-ai/Finetuned_Checpoint/Swin_v2_Checkpoints/R_C_P_4th_3rd_2nd_1st/Test-1/checkpoint-955\""
   ]
  },
  {
   "cell_type": "code",
   "execution_count": null,
   "id": "ccfa8d4c-9156-4cdd-9a76-3d6e3999bf47",
   "metadata": {
    "execution": {
     "iopub.execute_input": "2025-03-17T11:45:16.049727Z",
     "iopub.status.busy": "2025-03-17T11:45:16.049316Z",
     "iopub.status.idle": "2025-03-17T11:45:17.914387Z",
     "shell.execute_reply": "2025-03-17T11:45:17.913941Z",
     "shell.execute_reply.started": "2025-03-17T11:45:16.049706Z"
    }
   },
   "outputs": [],
   "source": [
    "# Create the ViT model\n",
    "model = AutoModelForImageClassification.from_pretrained(\n",
    "    model_checkpoint,\n",
    "    label2id = label2id,\n",
    "    id2label = id2label,\n",
    "    ignore_mismatched_sizes=True).to('cuda')"
   ]
  },
  {
   "cell_type": "code",
   "execution_count": null,
   "id": "5bdedced-3431-476f-8cfd-a16d75d71f83",
   "metadata": {
    "execution": {
     "iopub.execute_input": "2025-03-17T11:45:17.915375Z",
     "iopub.status.busy": "2025-03-17T11:45:17.915210Z",
     "iopub.status.idle": "2025-03-17T11:45:17.917762Z",
     "shell.execute_reply": "2025-03-17T11:45:17.917438Z",
     "shell.execute_reply.started": "2025-03-17T11:45:17.915357Z"
    }
   },
   "outputs": [],
   "source": [
    "swin_model = nn.Sequential(*list(model.children())[:-1])\n",
    "# new_model = model.children()[:-1]\n",
    "# new_model"
   ]
  },
  {
   "cell_type": "markdown",
   "id": "5c95dd17-537f-4688-964d-04ad8f2a0b3f",
   "metadata": {},
   "source": [
    "## Load Beit"
   ]
  },
  {
   "cell_type": "code",
   "execution_count": null,
   "id": "fed6b930-a5c8-4a97-88a1-3c05048ec60e",
   "metadata": {
    "execution": {
     "iopub.execute_input": "2025-03-17T11:45:18.980069Z",
     "iopub.status.busy": "2025-03-17T11:45:18.979365Z",
     "iopub.status.idle": "2025-03-17T11:45:18.982941Z",
     "shell.execute_reply": "2025-03-17T11:45:18.982384Z",
     "shell.execute_reply.started": "2025-03-17T11:45:18.980042Z"
    }
   },
   "outputs": [],
   "source": [
    "# model_checkpoint = \"/content/drive/MyDrive/re/swinv2_results/swinv2-checkpoint\"\n",
    "model_checkpoint = \"/mnt/SSD/hasan/Agile-Styling-ai/Finetuned_Checpoint/Beit_Checkpoints/R_C_P_4th_3rd_2nd_1st/Test-1/checkpoint-1120\""
   ]
  },
  {
   "cell_type": "code",
   "execution_count": null,
   "id": "a4f05612-9d1f-4fa7-a038-620719555532",
   "metadata": {
    "execution": {
     "iopub.execute_input": "2025-03-17T11:45:19.266009Z",
     "iopub.status.busy": "2025-03-17T11:45:19.265770Z",
     "iopub.status.idle": "2025-03-17T11:45:19.742555Z",
     "shell.execute_reply": "2025-03-17T11:45:19.742111Z",
     "shell.execute_reply.started": "2025-03-17T11:45:19.265992Z"
    }
   },
   "outputs": [],
   "source": [
    "# Create the ViT model\n",
    "model = AutoModelForImageClassification.from_pretrained(\n",
    "    model_checkpoint,\n",
    "    label2id = label2id,\n",
    "    id2label = id2label,\n",
    "    ignore_mismatched_sizes=True).to('cuda')"
   ]
  },
  {
   "cell_type": "code",
   "execution_count": null,
   "id": "3a1553f8-7bd2-4038-af00-563aa9f5a2d0",
   "metadata": {
    "execution": {
     "iopub.execute_input": "2025-03-17T11:45:19.743367Z",
     "iopub.status.busy": "2025-03-17T11:45:19.743249Z",
     "iopub.status.idle": "2025-03-17T11:45:19.745452Z",
     "shell.execute_reply": "2025-03-17T11:45:19.745168Z",
     "shell.execute_reply.started": "2025-03-17T11:45:19.743355Z"
    }
   },
   "outputs": [],
   "source": [
    "beit_model = nn.Sequential(*list(model.children())[:-1])\n",
    "# new_model = model.children()[:-1]\n",
    "# new_model"
   ]
  },
  {
   "cell_type": "markdown",
   "id": "624e79b4-06ee-42ce-96cc-a07b8237cf67",
   "metadata": {},
   "source": [
    "# Extracting Features"
   ]
  },
  {
   "cell_type": "code",
   "execution_count": null,
   "id": "40d0320f-362a-405f-913f-1d1a8769ebd7",
   "metadata": {
    "execution": {
     "iopub.execute_input": "2025-03-17T11:46:01.668583Z",
     "iopub.status.busy": "2025-03-17T11:46:01.667864Z",
     "iopub.status.idle": "2025-03-17T11:46:01.671378Z",
     "shell.execute_reply": "2025-03-17T11:46:01.671070Z",
     "shell.execute_reply.started": "2025-03-17T11:46:01.668563Z"
    }
   },
   "outputs": [],
   "source": [
    "def extract_features(dataset, model):\n",
    "\n",
    "    all_features = []\n",
    "    for i in range(len(dataset)):\n",
    "        with torch.no_grad():\n",
    "            features = model(torch.unsqueeze(dataset[i]['image'], 0).to('cuda'))\n",
    "        features = features.pooler_output.cpu()\n",
    "        all_features.append(features[0])\n",
    "    \n",
    "    all_features = torch.stack(all_features)\n",
    "\n",
    "    return all_features"
   ]
  },
  {
   "cell_type": "code",
   "execution_count": null,
   "id": "f8556e4a-11a6-44c4-9b19-2a6e88e8dfd5",
   "metadata": {
    "execution": {
     "iopub.execute_input": "2025-03-17T11:47:48.804657Z",
     "iopub.status.busy": "2025-03-17T11:47:48.804193Z",
     "iopub.status.idle": "2025-03-17T11:50:32.253356Z",
     "shell.execute_reply": "2025-03-17T11:50:32.252976Z",
     "shell.execute_reply.started": "2025-03-17T11:47:48.804641Z"
    }
   },
   "outputs": [],
   "source": [
    "dino_train_features = torch.concat([extract_features(train_dataset, dino_model), extract_features(val_dataset, dino_model)])\n",
    "dino_test_features = extract_features(test_dataset, dino_model)"
   ]
  },
  {
   "cell_type": "code",
   "execution_count": null,
   "id": "fe66c9c2-b621-4c5c-92d7-1520f462bebe",
   "metadata": {
    "execution": {
     "iopub.execute_input": "2025-03-17T11:50:32.254301Z",
     "iopub.status.busy": "2025-03-17T11:50:32.254142Z",
     "iopub.status.idle": "2025-03-17T11:50:32.256984Z",
     "shell.execute_reply": "2025-03-17T11:50:32.256674Z",
     "shell.execute_reply.started": "2025-03-17T11:50:32.254288Z"
    }
   },
   "outputs": [],
   "source": [
    "dino_train_features.shape, dino_test_features.shape"
   ]
  },
  {
   "cell_type": "code",
   "execution_count": null,
   "id": "444ebedc-7ca7-46e8-bff5-6321636c4827",
   "metadata": {
    "execution": {
     "iopub.execute_input": "2025-03-17T11:50:32.257550Z",
     "iopub.status.busy": "2025-03-17T11:50:32.257440Z",
     "iopub.status.idle": "2025-03-17T11:54:44.003849Z",
     "shell.execute_reply": "2025-03-17T11:54:44.003464Z",
     "shell.execute_reply.started": "2025-03-17T11:50:32.257539Z"
    }
   },
   "outputs": [],
   "source": [
    "swin_train_features = torch.concat([extract_features(train_dataset, swin_model), extract_features(val_dataset, swin_model)])\n",
    "swin_test_features = extract_features(test_dataset, swin_model)"
   ]
  },
  {
   "cell_type": "code",
   "execution_count": null,
   "id": "76b0189b-6947-42cd-9ef0-1277eb7e76f4",
   "metadata": {
    "execution": {
     "iopub.execute_input": "2025-03-17T11:54:44.004973Z",
     "iopub.status.busy": "2025-03-17T11:54:44.004830Z",
     "iopub.status.idle": "2025-03-17T11:54:44.007557Z",
     "shell.execute_reply": "2025-03-17T11:54:44.007268Z",
     "shell.execute_reply.started": "2025-03-17T11:54:44.004960Z"
    }
   },
   "outputs": [],
   "source": [
    "swin_train_features.shape, swin_test_features.shape"
   ]
  },
  {
   "cell_type": "code",
   "execution_count": null,
   "id": "140f6127-74cc-4f68-8a10-b2cef6efe3ce",
   "metadata": {
    "execution": {
     "iopub.execute_input": "2025-03-17T11:54:44.008040Z",
     "iopub.status.busy": "2025-03-17T11:54:44.007932Z",
     "iopub.status.idle": "2025-03-17T11:57:25.817478Z",
     "shell.execute_reply": "2025-03-17T11:57:25.817106Z",
     "shell.execute_reply.started": "2025-03-17T11:54:44.008028Z"
    }
   },
   "outputs": [],
   "source": [
    "beit_train_features = torch.concat([extract_features(train_dataset, beit_model), extract_features(val_dataset, beit_model)])\n",
    "beit_test_features = extract_features(test_dataset, beit_model)"
   ]
  },
  {
   "cell_type": "code",
   "execution_count": null,
   "id": "9b7be22d-02cf-4128-b0a2-f4cb1dca5bb6",
   "metadata": {
    "execution": {
     "iopub.execute_input": "2025-03-17T11:57:25.818161Z",
     "iopub.status.busy": "2025-03-17T11:57:25.818020Z",
     "iopub.status.idle": "2025-03-17T11:57:25.820919Z",
     "shell.execute_reply": "2025-03-17T11:57:25.820560Z",
     "shell.execute_reply.started": "2025-03-17T11:57:25.818147Z"
    }
   },
   "outputs": [],
   "source": [
    "beit_train_features.shape, beit_test_features.shape"
   ]
  },
  {
   "cell_type": "markdown",
   "id": "b30ae120-bedb-4a72-a2f8-fec21a2d2ed0",
   "metadata": {},
   "source": [
    "## Concatenating Features"
   ]
  },
  {
   "cell_type": "code",
   "execution_count": null,
   "id": "0951050d-7479-48e1-b2f6-635cc35462f6",
   "metadata": {
    "execution": {
     "iopub.execute_input": "2025-03-17T11:57:25.821584Z",
     "iopub.status.busy": "2025-03-17T11:57:25.821426Z",
     "iopub.status.idle": "2025-03-17T11:57:25.840882Z",
     "shell.execute_reply": "2025-03-17T11:57:25.840462Z",
     "shell.execute_reply.started": "2025-03-17T11:57:25.821567Z"
    }
   },
   "outputs": [],
   "source": [
    "concatenated_train_features = torch.concat([dino_train_features, swin_train_features, beit_train_features], axis=1)"
   ]
  },
  {
   "cell_type": "code",
   "execution_count": null,
   "id": "759a04b1-2fb3-4caf-ab66-a6ac9e9cd56d",
   "metadata": {
    "execution": {
     "iopub.execute_input": "2025-03-17T11:57:25.841599Z",
     "iopub.status.busy": "2025-03-17T11:57:25.841452Z",
     "iopub.status.idle": "2025-03-17T11:57:25.866798Z",
     "shell.execute_reply": "2025-03-17T11:57:25.866362Z",
     "shell.execute_reply.started": "2025-03-17T11:57:25.841586Z"
    }
   },
   "outputs": [],
   "source": [
    "concatenated_train_features = torch.concat([dino_train_features, swin_train_features, beit_train_features], axis=1)"
   ]
  },
  {
   "cell_type": "code",
   "execution_count": null,
   "id": "5e18ae68-5481-47cd-b5ad-50e6b56345a9",
   "metadata": {
    "execution": {
     "iopub.execute_input": "2025-03-17T11:57:25.867514Z",
     "iopub.status.busy": "2025-03-17T11:57:25.867373Z",
     "iopub.status.idle": "2025-03-17T11:57:25.870436Z",
     "shell.execute_reply": "2025-03-17T11:57:25.870058Z",
     "shell.execute_reply.started": "2025-03-17T11:57:25.867501Z"
    }
   },
   "outputs": [],
   "source": [
    "concatenated_train_features.shape"
   ]
  },
  {
   "cell_type": "code",
   "execution_count": null,
   "id": "2b153806-8f54-46ba-a6d6-0c3862b41023",
   "metadata": {
    "execution": {
     "iopub.execute_input": "2025-03-17T11:57:25.871954Z",
     "iopub.status.busy": "2025-03-17T11:57:25.871718Z",
     "iopub.status.idle": "2025-03-17T11:57:25.874996Z",
     "shell.execute_reply": "2025-03-17T11:57:25.874649Z",
     "shell.execute_reply.started": "2025-03-17T11:57:25.871941Z"
    }
   },
   "outputs": [],
   "source": [
    "concatenated_test_features = torch.concat([dino_test_features, swin_test_features, beit_test_features], axis=1)"
   ]
  },
  {
   "cell_type": "code",
   "execution_count": null,
   "id": "178def31-19f9-434c-9571-e220174a57c0",
   "metadata": {
    "execution": {
     "iopub.execute_input": "2025-03-17T11:57:25.875558Z",
     "iopub.status.busy": "2025-03-17T11:57:25.875438Z",
     "iopub.status.idle": "2025-03-17T11:57:25.919771Z",
     "shell.execute_reply": "2025-03-17T11:57:25.919415Z",
     "shell.execute_reply.started": "2025-03-17T11:57:25.875546Z"
    }
   },
   "outputs": [],
   "source": [
    "np.save('4th_X_train.npy', concatenated_train_features.numpy())\n",
    "np.save('4th_X_test.npy', concatenated_test_features.numpy())"
   ]
  },
  {
   "cell_type": "code",
   "execution_count": null,
   "id": "5b0bf4b1-e787-4b30-a41a-66ee83a32792",
   "metadata": {
    "execution": {
     "iopub.execute_input": "2025-03-17T11:57:25.920523Z",
     "iopub.status.busy": "2025-03-17T11:57:25.920335Z",
     "iopub.status.idle": "2025-03-17T11:57:25.923455Z",
     "shell.execute_reply": "2025-03-17T11:57:25.923098Z",
     "shell.execute_reply.started": "2025-03-17T11:57:25.920505Z"
    }
   },
   "outputs": [],
   "source": [
    "concatenated_test_features.shape"
   ]
  },
  {
   "cell_type": "markdown",
   "id": "496f9fdd-9559-4afa-b6a6-f5323d0952c1",
   "metadata": {},
   "source": [
    "## Encoding Labels"
   ]
  },
  {
   "cell_type": "code",
   "execution_count": null,
   "id": "cb1d47b8-ef49-4d0a-af9d-b6cf2bd4b85f",
   "metadata": {
    "execution": {
     "iopub.execute_input": "2024-12-13T14:02:07.056280Z",
     "iopub.status.busy": "2024-12-13T14:02:07.055751Z",
     "iopub.status.idle": "2024-12-13T14:02:07.058897Z",
     "shell.execute_reply": "2024-12-13T14:02:07.058576Z",
     "shell.execute_reply.started": "2024-12-13T14:02:07.056263Z"
    }
   },
   "outputs": [],
   "source": []
  },
  {
   "cell_type": "code",
   "execution_count": null,
   "id": "5424a347-4163-49c8-8e9c-6f7b7abd1a6a",
   "metadata": {
    "execution": {
     "iopub.execute_input": "2025-03-17T11:57:25.924259Z",
     "iopub.status.busy": "2025-03-17T11:57:25.924091Z",
     "iopub.status.idle": "2025-03-17T11:57:25.927914Z",
     "shell.execute_reply": "2025-03-17T11:57:25.927598Z",
     "shell.execute_reply.started": "2025-03-17T11:57:25.924241Z"
    }
   },
   "outputs": [],
   "source": [
    "y_train = train_dataset.metadata['Season'].apply(lambda x: label2id[x]).to_list() \\\n",
    "+ val_dataset.metadata['Season'].apply(lambda x: label2id[x]).to_list()"
   ]
  },
  {
   "cell_type": "code",
   "execution_count": null,
   "id": "88de9dd4-3366-496f-a679-68150bc48753",
   "metadata": {
    "execution": {
     "iopub.execute_input": "2025-03-17T11:57:25.928543Z",
     "iopub.status.busy": "2025-03-17T11:57:25.928384Z",
     "iopub.status.idle": "2025-03-17T11:57:25.931165Z",
     "shell.execute_reply": "2025-03-17T11:57:25.930842Z",
     "shell.execute_reply.started": "2025-03-17T11:57:25.928526Z"
    }
   },
   "outputs": [],
   "source": [
    "np.save(\"4th_Y_train.npy\", np.array(y_train))"
   ]
  },
  {
   "cell_type": "code",
   "execution_count": null,
   "id": "75482216-9355-4701-b435-897027a419f7",
   "metadata": {
    "execution": {
     "iopub.execute_input": "2025-03-17T11:57:25.931762Z",
     "iopub.status.busy": "2025-03-17T11:57:25.931603Z",
     "iopub.status.idle": "2025-03-17T11:57:25.934259Z",
     "shell.execute_reply": "2025-03-17T11:57:25.933950Z",
     "shell.execute_reply.started": "2025-03-17T11:57:25.931744Z"
    }
   },
   "outputs": [],
   "source": [
    "y_train = torch.tensor(y_train)"
   ]
  },
  {
   "cell_type": "code",
   "execution_count": null,
   "id": "2e3d7a5d-be18-4c4f-bef5-b4e820c563e7",
   "metadata": {
    "execution": {
     "iopub.execute_input": "2025-03-17T11:57:25.934856Z",
     "iopub.status.busy": "2025-03-17T11:57:25.934703Z",
     "iopub.status.idle": "2025-03-17T11:57:25.937373Z",
     "shell.execute_reply": "2025-03-17T11:57:25.937065Z",
     "shell.execute_reply.started": "2025-03-17T11:57:25.934838Z"
    }
   },
   "outputs": [],
   "source": [
    "# y_test = torch.tensor([label2id[test_dataset[i]['label']] for i in range(len(test_dataset))])\n",
    "y_test = test_dataset.metadata['Season'].apply(lambda x: label2id[x]).to_list()"
   ]
  },
  {
   "cell_type": "code",
   "execution_count": null,
   "id": "881444f8-c5ee-4a81-a1ab-211a352f94f7",
   "metadata": {
    "execution": {
     "iopub.execute_input": "2025-03-17T11:57:25.937957Z",
     "iopub.status.busy": "2025-03-17T11:57:25.937805Z",
     "iopub.status.idle": "2025-03-17T11:57:25.940115Z",
     "shell.execute_reply": "2025-03-17T11:57:25.939822Z",
     "shell.execute_reply.started": "2025-03-17T11:57:25.937941Z"
    }
   },
   "outputs": [],
   "source": [
    "np.save(\"4th_Y_test.npy\", np.array(y_test))"
   ]
  },
  {
   "cell_type": "markdown",
   "id": "1be531a1-8731-4dd5-ae01-6819771c5646",
   "metadata": {},
   "source": [
    "# XGBoost model performance"
   ]
  },
  {
   "cell_type": "code",
   "execution_count": null,
   "id": "cc0ca500-64e5-4b4e-abfb-79eafffd7655",
   "metadata": {
    "execution": {
     "iopub.execute_input": "2025-03-17T11:57:25.940761Z",
     "iopub.status.busy": "2025-03-17T11:57:25.940605Z",
     "iopub.status.idle": "2025-03-17T11:57:25.942530Z",
     "shell.execute_reply": "2025-03-17T11:57:25.942235Z",
     "shell.execute_reply.started": "2025-03-17T11:57:25.940745Z"
    }
   },
   "outputs": [],
   "source": [
    "import xgboost as xgb"
   ]
  },
  {
   "cell_type": "code",
   "execution_count": null,
   "id": "7f6ab710-7e76-4ed4-b733-3972cc35009d",
   "metadata": {
    "execution": {
     "iopub.execute_input": "2025-03-17T11:57:25.943096Z",
     "iopub.status.busy": "2025-03-17T11:57:25.942946Z",
     "iopub.status.idle": "2025-03-17T11:57:25.967172Z",
     "shell.execute_reply": "2025-03-17T11:57:25.966790Z",
     "shell.execute_reply.started": "2025-03-17T11:57:25.943080Z"
    }
   },
   "outputs": [],
   "source": [
    "concatenated_train_features = np.load('4th_X_train.npy')\n",
    "concatenated_test_features = np.load('4th_X_test.npy')\n",
    "y_train = np.load('4th_Y_train.npy')\n",
    "y_test = np.load('4th_Y_test.npy')"
   ]
  },
  {
   "cell_type": "code",
   "execution_count": null,
   "id": "1d3ce0d7-2115-4fcc-97eb-be62a366d934",
   "metadata": {},
   "outputs": [],
   "source": []
  },
  {
   "cell_type": "code",
   "execution_count": null,
   "id": "447a3c02-e85d-436d-9582-cc6e9f2c05ed",
   "metadata": {
    "execution": {
     "iopub.execute_input": "2025-03-17T11:57:25.967905Z",
     "iopub.status.busy": "2025-03-17T11:57:25.967746Z",
     "iopub.status.idle": "2025-03-17T11:57:25.970322Z",
     "shell.execute_reply": "2025-03-17T11:57:25.970006Z",
     "shell.execute_reply.started": "2025-03-17T11:57:25.967888Z"
    }
   },
   "outputs": [],
   "source": [
    "y_train, y_test = torch.tensor(y_train), torch.tensor(y_test)"
   ]
  },
  {
   "cell_type": "code",
   "execution_count": null,
   "id": "08dde36b-ce5b-45d4-b868-df0494918d61",
   "metadata": {
    "execution": {
     "iopub.execute_input": "2025-03-17T11:57:25.970915Z",
     "iopub.status.busy": "2025-03-17T11:57:25.970762Z",
     "iopub.status.idle": "2025-03-17T11:57:25.973854Z",
     "shell.execute_reply": "2025-03-17T11:57:25.973524Z",
     "shell.execute_reply.started": "2025-03-17T11:57:25.970899Z"
    }
   },
   "outputs": [],
   "source": [
    "y_train.shape, y_test.shape"
   ]
  },
  {
   "cell_type": "code",
   "execution_count": null,
   "id": "88ad2cba-5c73-4908-b9b3-19b6f3545e70",
   "metadata": {
    "execution": {
     "iopub.execute_input": "2025-03-17T11:57:25.974495Z",
     "iopub.status.busy": "2025-03-17T11:57:25.974347Z",
     "iopub.status.idle": "2025-03-17T11:57:25.976982Z",
     "shell.execute_reply": "2025-03-17T11:57:25.976643Z",
     "shell.execute_reply.started": "2025-03-17T11:57:25.974478Z"
    }
   },
   "outputs": [],
   "source": [
    "# Create an XGBoost classifier instance\n",
    "xgb_model = xgb.XGBClassifier(\n",
    "    tree_method='gpu_hist',\n",
    "    learning_rate=.1,    # Learning rate for boosting\n",
    "    n_estimators=100000,     # Number of boosting rounds (trees)\n",
    "    max_depth=4,          # Maximum depth of individual trees\n",
    "    # objective='binary:logistic',  # Objective function for binary classification\n",
    "    objective='multi:softmax',  # Objective function for multiclass classification\n",
    "    num_class=4, # Number of classes,\n",
    "    subsample=0.2\n",
    ")"
   ]
  },
  {
   "cell_type": "code",
   "execution_count": null,
   "id": "39bcb19e-6942-45f1-b1f4-b72c45bbfed6",
   "metadata": {
    "execution": {
     "iopub.execute_input": "2025-03-17T11:57:25.977597Z",
     "iopub.status.busy": "2025-03-17T11:57:25.977449Z",
     "iopub.status.idle": "2025-03-17T12:07:56.977334Z",
     "shell.execute_reply": "2025-03-17T12:07:56.976990Z",
     "shell.execute_reply.started": "2025-03-17T11:57:25.977581Z"
    },
    "scrolled": true
   },
   "outputs": [],
   "source": [
    "xgb_model.fit(concatenated_train_features, y_train)"
   ]
  },
  {
   "cell_type": "code",
   "execution_count": null,
   "id": "244145b5-7ade-4207-9b45-e5c7a50785ef",
   "metadata": {
    "execution": {
     "iopub.execute_input": "2025-03-17T12:07:56.977930Z",
     "iopub.status.busy": "2025-03-17T12:07:56.977809Z",
     "iopub.status.idle": "2025-03-17T12:07:58.733836Z",
     "shell.execute_reply": "2025-03-17T12:07:58.733379Z",
     "shell.execute_reply.started": "2025-03-17T12:07:56.977918Z"
    }
   },
   "outputs": [],
   "source": [
    "# 4th Round\n",
    "print(\"Performance Report:\")\n",
    "y_pred = xgb_model.predict(concatenated_test_features)\n",
    "target = list(id2label.keys())  \n",
    "target_names = list(id2label.values())\n",
    "from sklearn import metrics\n",
    "# threshold = np.round(metrics.roc_auc_score(y_test6, y_pred6,multi_class='ovo', average='weighted'),4)\n",
    "# print('ROC AUC Score is :', threshold)\n",
    "print('Accuracy score is :', np.round(metrics.accuracy_score(y_test, y_pred), 4))\n",
    "print('Precision score is :', np.round(metrics.precision_score(y_test, y_pred, average='weighted'), 4))\n",
    "print('Recall score is :', np.round(metrics.recall_score(y_test, y_pred, average='weighted'), 4))\n",
    "print('F1 Score is :', np.round(metrics.f1_score(y_test, y_pred, average='weighted'), 4))\n",
    "print('Cohen Kappa Score:', np.round(metrics.cohen_kappa_score(y_test, y_pred), 4))\n",
    "print('\\t\\tClassification Report:\\n', metrics.classification_report(y_test, y_pred, labels=target, target_names=target_names))\n"
   ]
  },
  {
   "cell_type": "code",
   "execution_count": null,
   "id": "89ded2f8-5b20-4d52-9c2e-77c991f2282a",
   "metadata": {
    "execution": {
     "iopub.execute_input": "2025-03-17T12:07:58.734597Z",
     "iopub.status.busy": "2025-03-17T12:07:58.734426Z",
     "iopub.status.idle": "2025-03-17T12:08:00.653300Z",
     "shell.execute_reply": "2025-03-17T12:08:00.652852Z",
     "shell.execute_reply.started": "2025-03-17T12:07:58.734582Z"
    }
   },
   "outputs": [],
   "source": [
    "# Save the trained XGBoost model\n",
    "xgb_model.save_model(\"xgboost_model_4th.json\")"
   ]
  },
  {
   "cell_type": "markdown",
   "id": "72f0a07f-c88a-4f53-a4c9-664baca25828",
   "metadata": {},
   "source": [
    "# Gradio"
   ]
  },
  {
   "cell_type": "code",
   "execution_count": null,
   "id": "122c9a2b-91de-4863-b8de-1cc08faec2bb",
   "metadata": {
    "execution": {
     "iopub.execute_input": "2024-11-12T06:02:27.417350Z",
     "iopub.status.busy": "2024-11-12T06:02:27.417125Z",
     "iopub.status.idle": "2024-11-12T06:02:27.420087Z",
     "shell.execute_reply": "2024-11-12T06:02:27.419631Z",
     "shell.execute_reply.started": "2024-11-12T06:02:27.417331Z"
    }
   },
   "outputs": [],
   "source": [
    "# Assuming model checkpoints for DINO v2, Swin v2, BEiT\n",
    "dino_model_checkpoint = \"/mnt/SSD/hasan/Agile-Styling-ai/Finetuned_Checpoint/Dinov2_Checkpoints/Test_5/checkpoint-27\"\n",
    "swin_model_checkpoint = \"/mnt/SSD/hasan/Agile-Styling-ai/Finetuned_Checpoint/Swin_v2_Checkpoints/Test_1/checkpoint-55\"\n",
    "beit_model_checkpoint = \"/mnt/SSD/hasan/Agile-Styling-ai/Finetuned_Checpoint/Beit_Checkpoints/Test_1/checkpoint-209\""
   ]
  },
  {
   "cell_type": "code",
   "execution_count": null,
   "id": "db4a3eaf-7646-4128-bf57-350642e347fb",
   "metadata": {
    "execution": {
     "iopub.execute_input": "2024-11-12T06:11:24.525077Z",
     "iopub.status.busy": "2024-11-12T06:11:24.524869Z",
     "iopub.status.idle": "2024-11-12T06:11:28.964867Z",
     "shell.execute_reply": "2024-11-12T06:11:28.964423Z",
     "shell.execute_reply.started": "2024-11-12T06:11:24.525063Z"
    }
   },
   "outputs": [],
   "source": [
    "import gradio as gr\n",
    "import torch\n",
    "import numpy as np\n",
    "import xgboost as xgb\n",
    "from PIL import Image\n",
    "import torchvision.transforms as transforms\n",
    "from transformers import AutoImageProcessor, AutoModelForImageClassification\n",
    "import torch.nn as nn\n",
    "\n",
    "# Set device (CUDA if available)\n",
    "device = torch.device('cuda' if torch.cuda.is_available() else 'cpu')\n",
    "\n",
    "# Define model paths for DINO, Swin, BEiT models (replace with actual paths)\n",
    "# dino_model_checkpoint = \"/path/to/dino_model_checkpoint\"\n",
    "# swin_model_checkpoint = \"/path/to/swin_model_checkpoint\"\n",
    "# beit_model_checkpoint = \"/path/to/beit_model_checkpoint\"\n",
    "# xgb_model_path = \"xgboost_model.json\"  # XGBoost model path\n",
    "\n",
    "# Load pretrained models\n",
    "dino_model = nn.Sequential(*list(AutoModelForImageClassification.from_pretrained(dino_model_checkpoint).children())[:-1]).to(device)\n",
    "swin_model = nn.Sequential(*list(AutoModelForImageClassification.from_pretrained(swin_model_checkpoint).children())[:-1]).to(device)\n",
    "beit_model = nn.Sequential(*list(AutoModelForImageClassification.from_pretrained(beit_model_checkpoint).children())[:-1]).to(device)\n",
    "\n",
    "# Load the saved XGBoost model\n",
    "xgb_model = xgb.XGBClassifier()\n",
    "xgb_model.load_model(xgb_model_path)\n",
    "\n",
    "# Define the image preprocessing pipeline\n",
    "transform = transforms.Compose([\n",
    "    transforms.Resize((224, 224)),\n",
    "    transforms.ToTensor(),\n",
    "    transforms.Normalize(mean=[0.485, 0.456, 0.406], std=[0.229, 0.224, 0.225]),\n",
    "])\n",
    "\n",
    "# Feature extraction function\n",
    "def extract_features(image, model):\n",
    "    try:\n",
    "        # Transform the image to tensor and add batch dimension\n",
    "        image = transform(image).unsqueeze(0).to(device)  # Prepare image for inference\n",
    "        with torch.no_grad():\n",
    "            # Get model output\n",
    "            output = model(image)\n",
    "        \n",
    "        # Extract the pooler_output or logits (depending on the model)\n",
    "        features = output.pooler_output if hasattr(output, 'pooler_output') else output.logits\n",
    "        \n",
    "        # Flatten the output to make it compatible with XGBoost\n",
    "        features = features.flatten().cpu().numpy()  # Flatten the features\n",
    "        return features\n",
    "    except Exception as e:\n",
    "        print(f\"Error during feature extraction: {e}\")\n",
    "        return None\n",
    "\n",
    "# Prediction function\n",
    "def predict_season(image):\n",
    "    try:\n",
    "        # Extract features from all models (DINO, Swin, BEiT)\n",
    "        dino_features = extract_features(image, dino_model)\n",
    "        swin_features = extract_features(image, swin_model)\n",
    "        beit_features = extract_features(image, beit_model)\n",
    "\n",
    "        if dino_features is None or swin_features is None or beit_features is None:\n",
    "            return \"Error during feature extraction\"\n",
    "\n",
    "        # Debugging: Print shapes of the extracted features\n",
    "        print(f\"DINO Features Shape: {dino_features.shape}\")\n",
    "        print(f\"Swin Features Shape: {swin_features.shape}\")\n",
    "        print(f\"BEiT Features Shape: {beit_features.shape}\")\n",
    "\n",
    "        # Concatenate features from all models into one array\n",
    "        concatenated_features = np.concatenate([dino_features, swin_features, beit_features], axis=0)\n",
    "        print(f\"Concatenated Features Shape: {concatenated_features.shape}\")\n",
    "\n",
    "        # Make prediction using XGBoost model\n",
    "        prediction = xgb_model.predict([concatenated_features])[0]\n",
    "\n",
    "        # Map prediction (index) to label (season)\n",
    "        id2label = {0: 'True Autumn', 1: 'True Spring', 2: 'True Summer', 3: 'True Winter'}  # Modify as needed\n",
    "        predicted_season = id2label[prediction]\n",
    "\n",
    "        return predicted_season\n",
    "\n",
    "    except Exception as e:\n",
    "        print(f\"Error during prediction: {e}\")\n",
    "        return f\"Error during prediction: {e}\"\n",
    "\n",
    "# Gradio Interface\n",
    "iface = gr.Interface(\n",
    "    fn=predict_season,  # Prediction function\n",
    "    inputs=gr.Image(type=\"pil\", label=\"Upload Image\"),  # Image input\n",
    "    outputs=gr.Textbox(label=\"Predicted Season\"),  # Text output for predicted season\n",
    "    live=True  # Update output as soon as image is uploaded\n",
    ")\n",
    "\n",
    "# Launch the Gradio app\n",
    "iface.launch(server_name=\"0.0.0.0\", server_port=7999, share=True)  # Set share=True to get a public URL\n"
   ]
  }
 ],
 "metadata": {
  "kernelspec": {
   "display_name": "Python 3 (ipykernel)",
   "language": "python",
   "name": "python3"
  },
  "language_info": {
   "codemirror_mode": {
    "name": "ipython",
    "version": 3
   },
   "file_extension": ".py",
   "mimetype": "text/x-python",
   "name": "python",
   "nbconvert_exporter": "python",
   "pygments_lexer": "ipython3",
   "version": "3.10.12"
  }
 },
 "nbformat": 4,
 "nbformat_minor": 5
}
